{
 "cells": [
  {
   "cell_type": "markdown",
   "id": "fabc7e66",
   "metadata": {},
   "source": [
    "(0d-nb)=\n",
    "# 0D tight-binding model of NH3 molecule"
   ]
  },
  {
   "cell_type": "code",
   "execution_count": 1,
   "id": "03999622",
   "metadata": {},
   "outputs": [],
   "source": [
    "from pythtb import TBModel  \n",
    "import numpy as np\n",
    "import matplotlib.pyplot as plt"
   ]
  },
  {
   "cell_type": "code",
   "execution_count": 2,
   "id": "a590e564",
   "metadata": {},
   "outputs": [],
   "source": [
    "# define lattice vectors\n",
    "lat = [[1, 0, 0], [0, 1, 0], [0, 0, 1]]\n",
    "# define coordinates of orbitals\n",
    "sq32 = np.sqrt(3)/2\n",
    "orb = [\n",
    "    [(2.0 / 3.0) * sq32, 0.0, 0.0],\n",
    "    [(-1.0 / 3.0) * sq32, 1.0 / 2.0, 0.0],\n",
    "    [(-1.0 / 3.0) * sq32, -1.0 / 2.0, 0.0],\n",
    "    [0.0, 0.0, 1.0],\n",
    "]"
   ]
  },
  {
   "cell_type": "code",
   "execution_count": 3,
   "id": "c60b8010",
   "metadata": {},
   "outputs": [
    {
     "name": "stdout",
     "output_type": "stream",
     "text": [
      "----------------------------------------\n",
      "       Tight-binding model report       \n",
      "----------------------------------------\n",
      "r-space dimension           = 3\n",
      "k-space dimension           = 0\n",
      "number of spin components   = 1\n",
      "periodic directions         = []\n",
      "number of orbitals          = 4\n",
      "number of electronic states = 4\n",
      "\n",
      "Lattice vectors (Cartesian):\n",
      "  # 0 ===> [ 1.000 ,    0   ,    0   ]\n",
      "  # 1 ===> [   0   ,  1.000 ,    0   ]\n",
      "  # 2 ===> [   0   ,    0   ,  1.000 ]\n",
      "Orbital vectors (dimensionless):\n",
      "  # 0 ===> [ 0.577 ,    0   ,    0   ]\n",
      "  # 1 ===> [-0.289 ,  0.500 ,    0   ]\n",
      "  # 2 ===> [-0.289 , -0.500 ,    0   ]\n",
      "  # 3 ===> [   0   ,    0   ,  1.000 ]\n",
      "Site energies:\n",
      "  # 0 ===> -0.500 \n",
      "  # 1 ===> -0.500 \n",
      "  # 2 ===> -0.500 \n",
      "  # 3 ===>  0.500 \n",
      "Hoppings:\n",
      "  < 0 | H | 11.0000 \n",
      "  < 0 | H | 21.0000 \n",
      "  < 0 | H | 31.0000 \n",
      "  < 1 | H | 21.0000 \n",
      "  < 1 | H | 31.0000 \n",
      "  < 2 | H | 31.0000 \n",
      "Hopping distances:\n",
      "  | pos(0) - pos(1) | =  1.000 \n",
      "  | pos(0) - pos(2) | =  1.000 \n",
      "  | pos(0) - pos(3) | =  1.155 \n",
      "  | pos(1) - pos(2) | =  1.000 \n",
      "  | pos(1) - pos(3) | =  1.155 \n",
      "  | pos(2) - pos(3) | =  1.155 \n"
     ]
    }
   ],
   "source": [
    "# make zero dimensional tight-binding model\n",
    "my_model = TBModel(0, 3, lat, orb)\n",
    "\n",
    "# set model parameters\n",
    "delta = 0.5\n",
    "t_first = 1.0\n",
    "\n",
    "# change on-site energies so that N and H don't have the same energy\n",
    "my_model.set_onsite([-delta, -delta, -delta, delta])\n",
    "# set hoppings (one for each connected pair of orbitals)\n",
    "# (amplitude, i, j)\n",
    "my_model.set_hop(t_first, 0, 1)\n",
    "my_model.set_hop(t_first, 0, 2)\n",
    "my_model.set_hop(t_first, 0, 3)\n",
    "my_model.set_hop(t_first, 1, 2)\n",
    "my_model.set_hop(t_first, 1, 3)\n",
    "my_model.set_hop(t_first, 2, 3)\n",
    "\n",
    "print(my_model)"
   ]
  },
  {
   "cell_type": "markdown",
   "id": "9fed1662",
   "metadata": {},
   "source": [
    "Solve for the eigenenergies of the Hamiltonian"
   ]
  },
  {
   "cell_type": "code",
   "execution_count": 4,
   "id": "fe6416b3",
   "metadata": {},
   "outputs": [],
   "source": [
    "evals = my_model.solve_ham()"
   ]
  },
  {
   "cell_type": "code",
   "execution_count": 5,
   "id": "eda2a3a1",
   "metadata": {},
   "outputs": [
    {
     "data": {
      "text/plain": [
       "Text(0, 0.5, 'Energy')"
      ]
     },
     "execution_count": 5,
     "metadata": {},
     "output_type": "execute_result"
    },
    {
     "data": {
      "image/png": "[encoded data removed]",
      "text/plain": [
       "<Figure size 640x480 with 1 Axes>"
      ]
     },
     "metadata": {},
     "output_type": "display_data"
    }
   ],
   "source": [
    "fig, ax = plt.subplots()\n",
    "ax.plot(evals, \"bo\")\n",
    "ax.set_xlim(-0.3, 3.3)\n",
    "ax.set_ylim(evals.min() - 0.5, evals.max() + 0.5)\n",
    "ax.set_title(\"Molecule levels\")\n",
    "ax.set_xlabel(\"Orbital\")\n",
    "ax.set_ylabel(\"Energy\")"
   ]
  }
 ],
 "metadata": {
  "kernelspec": {
   "display_name": "pythtb",
   "language": "python",
   "name": "python3"
  },
  "language_info": {
   "codemirror_mode": {
    "name": "ipython",
    "version": 3
   },
   "file_extension": ".py",
   "mimetype": "text/x-python",
   "name": "python",
   "nbconvert_exporter": "python",
   "pygments_lexer": "ipython3",
   "version": "3.11.11"
  }
 },
 "nbformat": 4,
 "nbformat_minor": 5
}