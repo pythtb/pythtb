{
 "cells": [
  {
   "cell_type": "markdown",
   "id": "e1a41e72",
   "metadata": {},
   "source": [
    "(haldane-fin-nb)=\n",
    "# Finite Haldane model DOS\n",
    "\n",
    "The density of states (DOS) for the finite Haldane model can be calculated using the eigenvalues obtained from the diagonalization of the Hamiltonian. The DOS is a measure of the number of available states at each energy level and can provide insights into the electronic properties of the system."
   ]
  },
  {
   "cell_type": "code",
   "execution_count": 1,
   "id": "adb1adf9",
   "metadata": {},
   "outputs": [],
   "source": [
    "from pythtb.tb_model import TBModel \n",
    "import numpy as np\n",
    "import matplotlib.pyplot as plt"
   ]
  },
  {
   "cell_type": "markdown",
   "id": "269d52f1",
   "metadata": {},
   "source": [
    "For ease of use, we will import the Haldane model from the `pythtb.models` library.\n",
    "\n",
    ":::{versionadded} 2.0.0\n",
    ":::"
   ]
  },
  {
   "cell_type": "code",
   "execution_count": 2,
   "id": "50ac611e",
   "metadata": {},
   "outputs": [],
   "source": [
    "from pythtb.models import haldane"
   ]
  },
  {
   "cell_type": "code",
   "execution_count": 3,
   "id": "50d68d75",
   "metadata": {},
   "outputs": [
    {
     "name": "stdout",
     "output_type": "stream",
     "text": [
      "----------------------------------------\n",
      "       Tight-binding model report       \n",
      "----------------------------------------\n",
      "r-space dimension           = 2\n",
      "k-space dimension           = 2\n",
      "number of spin components   = 1\n",
      "periodic directions         = [0, 1]\n",
      "number of orbitals          = 2\n",
      "number of electronic states = 2\n",
      "\n",
      "Lattice vectors (Cartesian):\n",
      "  # 0 ===> [ 1.000 ,    0   ]\n",
      "  # 1 ===> [ 0.500 ,  0.866 ]\n",
      "Orbital vectors (dimensionless):\n",
      "  # 0 ===> [ 0.333 ,  0.333 ]\n",
      "  # 1 ===> [ 0.667 ,  0.667 ]\n",
      "Site energies:\n",
      "  # 0 ===> -0.000 \n",
      "  # 1 ===>  0.000 \n",
      "Hoppings:\n",
      "  < 0 | H | 1 + [ 0.0 ,  0.0 ] >  ===> -1.0000\n",
      "  < 0 | H | 1 + [-1.0 ,  0.0 ] >  ===> -1.0000\n",
      "  < 0 | H | 1 + [ 0.0 , -1.0 ] >  ===> -1.0000\n",
      "  < 0 | H | 0 + [ 1.0 ,  0.0 ] >  ===> 0.0000+0.1500j\n",
      "  < 1 | H | 1 + [ 1.0 ,  0.0 ] >  ===> 0.0000-0.1500j\n",
      "  < 0 | H | 0 + [-1.0 ,  1.0 ] >  ===> 0.0000+0.1500j\n",
      "  < 1 | H | 1 + [-1.0 ,  1.0 ] >  ===> 0.0000-0.1500j\n",
      "  < 0 | H | 0 + [ 0.0 , -1.0 ] >  ===> 0.0000+0.1500j\n",
      "  < 1 | H | 1 + [ 0.0 , -1.0 ] >  ===> 0.0000-0.1500j\n",
      "Hopping distances:\n",
      "  | pos(0) - pos(1 + [ 0.0 ,  0.0 ]) | =  0.577 \n",
      "  | pos(0) - pos(1 + [-1.0 ,  0.0 ]) | =  0.577 \n",
      "  | pos(0) - pos(1 + [ 0.0 , -1.0 ]) | =  0.577 \n",
      "  | pos(0) - pos(0 + [ 1.0 ,  0.0 ]) | =  1.000 \n",
      "  | pos(1) - pos(1 + [ 1.0 ,  0.0 ]) | =  1.000 \n",
      "  | pos(0) - pos(0 + [-1.0 ,  1.0 ]) | =  1.000 \n",
      "  | pos(1) - pos(1 + [-1.0 ,  1.0 ]) | =  1.000 \n",
      "  | pos(0) - pos(0 + [ 0.0 , -1.0 ]) | =  1.000 \n",
      "  | pos(1) - pos(1 + [ 0.0 , -1.0 ]) | =  1.000 \n"
     ]
    }
   ],
   "source": [
    "delta = 0.0\n",
    "t = -1.0\n",
    "t2 = 0.15 \n",
    "\n",
    "my_model = haldane(delta, t, t2)\n",
    "print(my_model)"
   ]
  },
  {
   "cell_type": "code",
   "execution_count": 4,
   "id": "c9d02532",
   "metadata": {},
   "outputs": [],
   "source": [
    "# cutout finite model first along direction x with no PBC\n",
    "tmp_model = my_model.cut_piece(20, 0, glue_edgs=False)\n",
    "# cutout also along y direction with no PBC\n",
    "fin_model_false = tmp_model.cut_piece(20, 1, glue_edgs=False)\n",
    "\n",
    "# cutout finite model first along direction x with PBC\n",
    "tmp_model = my_model.cut_piece(20, 0, glue_edgs=True)\n",
    "# cutout also along y direction\n",
    "fin_model_true = tmp_model.cut_piece(20, 1, glue_edgs=True)"
   ]
  },
  {
   "cell_type": "code",
   "execution_count": 5,
   "id": "d735552c",
   "metadata": {},
   "outputs": [],
   "source": [
    "# solve models\n",
    "evals_false = fin_model_false.solve_ham()\n",
    "evals_true = fin_model_true.solve_ham()"
   ]
  },
  {
   "cell_type": "code",
   "execution_count": 6,
   "id": "c3036174",
   "metadata": {},
   "outputs": [
    {
     "data": {
      "text/plain": [
       "Text(0, 0.5, 'Number of states')"
      ]
     },
     "execution_count": 6,
     "metadata": {},
     "output_type": "execute_result"
    },
    {
     "data": {
      "image/png": "[encoded data removed]",
      "text/plain": [
       "<Figure size 1000x500 with 2 Axes>"
      ]
     },
     "metadata": {},
     "output_type": "display_data"
    }
   ],
   "source": [
    "# flatten eigenvalue arrays\n",
    "evals_false = evals_false.flatten()\n",
    "evals_true = evals_true.flatten()\n",
    "\n",
    "# now plot density of states\n",
    "fig, ax = plt.subplots(1, 2, figsize=(10, 5))\n",
    "ax[0].hist(evals_false, 50, range=(-4.0, 4.0))\n",
    "ax[0].set_ylim(0.0, 80.0)\n",
    "ax[0].set_title(\"Finite Haldane model without PBC\")\n",
    "ax[0].set_xlabel(\"Band energy\")\n",
    "ax[0].set_ylabel(\"Number of states\")\n",
    "\n",
    "ax[1].hist(evals_true, 50, range=(-4.0, 4.0))\n",
    "ax[1].set_ylim(0.0, 80.0)\n",
    "ax[1].set_title(\"Finite Haldane model with PBC\")\n",
    "ax[1].set_xlabel(\"Band energy\")\n",
    "ax[1].set_ylabel(\"Number of states\")"
   ]
  }
 ],
 "metadata": {
  "kernelspec": {
   "display_name": "pythtb",
   "language": "python",
   "name": "python3"
  },
  "language_info": {
   "codemirror_mode": {
    "name": "ipython",
    "version": 3
   },
   "file_extension": ".py",
   "mimetype": "text/x-python",
   "name": "python",
   "nbconvert_exporter": "python",
   "pygments_lexer": "ipython3",
   "version": "3.11.11"
  }
 },
 "nbformat": 4,
 "nbformat_minor": 5
}