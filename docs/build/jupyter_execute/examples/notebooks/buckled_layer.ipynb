{
 "cells": [
  {
   "cell_type": "markdown",
   "id": "351fd4a7",
   "metadata": {},
   "source": [
    "(buckled-layer-nb)=\n",
    "# Slab geometry\n",
    "\n",
    "This is a simple illustration of a slab geometry in which\n",
    "the orbitals are specified in a 3D space, but the system is only\n",
    "extensive in 2D, so that k-space is only 2D."
   ]
  },
  {
   "cell_type": "code",
   "execution_count": 1,
   "id": "a46a82b9",
   "metadata": {},
   "outputs": [],
   "source": [
    "from pythtb.tb_model import TBModel \n",
    "import matplotlib.pyplot as plt"
   ]
  },
  {
   "cell_type": "code",
   "execution_count": 2,
   "id": "02463f76",
   "metadata": {},
   "outputs": [
    {
     "name": "stdout",
     "output_type": "stream",
     "text": [
      "----------------------------------------\n",
      "       Tight-binding model report       \n",
      "----------------------------------------\n",
      "r-space dimension           = 3\n",
      "k-space dimension           = 2\n",
      "number of spin components   = 1\n",
      "periodic directions         = [0, 1]\n",
      "number of orbitals          = 2\n",
      "number of electronic states = 2\n",
      "\n",
      "Lattice vectors (Cartesian):\n",
      "  # 0 ===> [ 1.000 ,    0   ,    0   ]\n",
      "  # 1 ===> [   0   ,  1.250 ,    0   ]\n",
      "  # 2 ===> [   0   ,    0   ,  3.000 ]\n",
      "Orbital vectors (dimensionless):\n",
      "  # 0 ===> [   0   ,    0   , -0.150 ]\n",
      "  # 1 ===> [ 0.500 ,  0.500 ,  0.150 ]\n",
      "Site energies:\n",
      "  # 0 ===> -1.100 \n",
      "  # 1 ===>  1.100 \n",
      "Hoppings:\n",
      "  < 1 | H | 0 + [ 0.0 ,  0.0 ,  0.0 ] >  ===> 0.6000 \n",
      "  < 1 | H | 0 + [ 1.0 ,  0.0 ,  0.0 ] >  ===> 0.6000 \n",
      "  < 1 | H | 0 + [ 0.0 ,  1.0 ,  0.0 ] >  ===> 0.6000 \n",
      "  < 1 | H | 0 + [ 1.0 ,  1.0 ,  0.0 ] >  ===> 0.6000 \n",
      "Hopping distances:\n",
      "  | pos(1) - pos(0 + [ 0.0 ,  0.0 ,  0.0 ]) | =  1.204 \n",
      "  | pos(1) - pos(0 + [ 1.0 ,  0.0 ,  0.0 ]) | =  1.204 \n",
      "  | pos(1) - pos(0 + [ 0.0 ,  1.0 ,  0.0 ]) | =  1.204 \n",
      "  | pos(1) - pos(0 + [ 1.0 ,  1.0 ,  0.0 ]) | =  1.204 \n"
     ]
    }
   ],
   "source": [
    "# define 3D real-space lattice vectors\n",
    "lat = [[1, 0, 0], [0, 1.25, 0], [0, 0, 3]]\n",
    "# define coordinates of orbitals in reduced units\n",
    "orb = [[0, 0, -0.15], [0.5, 0.5, 0.15]]\n",
    "\n",
    "# only first two lattice vectors repeat, so k-space is 2D\n",
    "my_model = TBModel(2, 3, lat, orb)\n",
    "\n",
    "delta = 1.1\n",
    "t = 0.6\n",
    "\n",
    "# set on-site energies\n",
    "my_model.set_onsite([-delta, delta])\n",
    "# set hoppings (amplitude, i, j, [lattice vector to cell containing j])\n",
    "my_model.set_hop(t, 1, 0, [0, 0, 0])\n",
    "my_model.set_hop(t, 1, 0, [1, 0, 0])\n",
    "my_model.set_hop(t, 1, 0, [0, 1, 0])\n",
    "my_model.set_hop(t, 1, 0, [1, 1, 0])\n",
    "\n",
    "print(my_model)"
   ]
  },
  {
   "cell_type": "markdown",
   "id": "83ada2bf",
   "metadata": {},
   "source": [
    "## Band structure calculation"
   ]
  },
  {
   "cell_type": "markdown",
   "id": "53a38649",
   "metadata": {},
   "source": [
    "Now we specify the k-space path for the band structure calculation by listing a set of nodes. The path will consist of straight line segments connecting these nodes."
   ]
  },
  {
   "cell_type": "code",
   "execution_count": 3,
   "id": "f31e0727",
   "metadata": {},
   "outputs": [],
   "source": [
    "path = [[0.0, 0.0], [0.0, 0.5], [0.5, 0.5], [0.0, 0.0]]\n",
    "# specify labels for these nodal points\n",
    "label = (r\"$\\Gamma $\", r\"$X$\", r\"$M$\", r\"$\\Gamma $\")"
   ]
  },
  {
   "cell_type": "markdown",
   "id": "38ffbd2b",
   "metadata": {},
   "source": [
    "### `TBModel.plot_bands`\n",
    "\n",
    "We can find the bands in two different ways. First we will use the `TBModel.plot_bands` method to visualize the band structure.\n",
    "This is useful for quickly assessing the overall shape of the band structure and identifying key features such as band gaps and degeneracies."
   ]
  },
  {
   "cell_type": "code",
   "execution_count": 4,
   "id": "933b69b4",
   "metadata": {},
   "outputs": [
    {
     "data": {
      "text/plain": [
       "(<Figure size 640x480 with 1 Axes>, <Axes: ylabel='Energy $E(\\\\mathbf{{k}})$'>)"
      ]
     },
     "execution_count": 4,
     "metadata": {},
     "output_type": "execute_result"
    },
    {
     "data": {
      "image/png": "[encoded data removed]",
      "text/plain": [
       "<Figure size 640x480 with 1 Axes>"
      ]
     },
     "metadata": {},
     "output_type": "display_data"
    }
   ],
   "source": [
    "my_model.plot_bands(path, k_label=label)"
   ]
  },
  {
   "cell_type": "markdown",
   "id": "5feac7e3",
   "metadata": {},
   "source": [
    "### `TBModel.solve_ham`\n",
    "\n",
    "Alternatively, we can use the `TBModel.solve_ham` method to compute the band structure directly. This method requires the k-points to be specified as input. To generate the k-points, we can use the `TBModel.k_path` method to construct the path through k-space, passing the desired path and the number of k-points as arguments. The `k_path` method will return the k-vectors, the distances along the path, and the original node positions."
   ]
  },
  {
   "cell_type": "code",
   "execution_count": 5,
   "id": "ebcd0e03",
   "metadata": {},
   "outputs": [
    {
     "name": "stdout",
     "output_type": "stream",
     "text": [
      "----- k_path report -----\n",
      "Real-space lattice vectors:\n",
      " [[1.   0.   0.  ]\n",
      " [0.   1.25 0.  ]]\n",
      "K-space metric tensor:\n",
      " [[1.   0.  ]\n",
      " [0.   0.64]]\n",
      "Nodes (reduced coords):\n",
      " [[0.  0. ]\n",
      " [0.  0.5]\n",
      " [0.5 0.5]\n",
      " [0.  0. ]]\n",
      "Segments:\n",
      "  Node 0 [0. 0.] to Node 1 [0.  0.5]: distance = 0.40000\n",
      "  Node 1 [0.  0.5] to Node 2 [0.5 0.5]: distance = 0.50000\n",
      "  Node 2 [0.5 0.5] to Node 3 [0. 0.]: distance = 0.64031\n",
      "Node distances (cumulative): [0.      0.4     0.9     1.54031]\n",
      "Node indices in path: [ 0 21 47 80]\n",
      "-------------------------\n"
     ]
    }
   ],
   "source": [
    "(k_vec, k_dist, k_node) = my_model.k_path(path, 81)"
   ]
  },
  {
   "cell_type": "markdown",
   "id": "23d094b0",
   "metadata": {},
   "source": [
    "Now we can call the `TBModel.solve_ham` method with the k-vectors obtained from `k_path` to compute the band structure."
   ]
  },
  {
   "cell_type": "code",
   "execution_count": 6,
   "id": "2752c5b1",
   "metadata": {},
   "outputs": [],
   "source": [
    "evals = my_model.solve_ham(k_vec)"
   ]
  },
  {
   "cell_type": "code",
   "execution_count": 7,
   "id": "9f87e2f1",
   "metadata": {},
   "outputs": [
    {
     "data": {
      "text/plain": [
       "[<matplotlib.lines.Line2D at 0x10f6a3320>,\n",
       " <matplotlib.lines.Line2D at 0x108c4c830>]"
      ]
     },
     "execution_count": 7,
     "metadata": {},
     "output_type": "execute_result"
    },
    {
     "data": {
      "image/png": "[encoded data removed]",
      "text/plain": [
       "<Figure size 640x480 with 1 Axes>"
      ]
     },
     "metadata": {},
     "output_type": "display_data"
    }
   ],
   "source": [
    "fig, ax = plt.subplots()\n",
    "ax.set_title(\"Bandstructure for buckled rectangular layer\")\n",
    "ax.set_ylabel(\"Band energy\")\n",
    "\n",
    "# specify horizontal axis details\n",
    "ax.set_xlim(k_node[0], k_node[-1])\n",
    "# put tickmarks and labels at node positions\n",
    "ax.set_xticks(k_node)\n",
    "ax.set_xticklabels(label)\n",
    "# add vertical lines at node positions\n",
    "for n in range(len(k_node)):\n",
    "    ax.axvline(x=k_node[n], linewidth=0.5, color=\"k\")\n",
    "\n",
    "ax.plot(k_dist, evals)"
   ]
  }
 ],
 "metadata": {
  "kernelspec": {
   "display_name": "pythtb",
   "language": "python",
   "name": "python3"
  },
  "language_info": {
   "codemirror_mode": {
    "name": "ipython",
    "version": 3
   },
   "file_extension": ".py",
   "mimetype": "text/x-python",
   "name": "python",
   "nbconvert_exporter": "python",
   "pygments_lexer": "ipython3",
   "version": "3.12.11"
  }
 },
 "nbformat": 4,
 "nbformat_minor": 5
}