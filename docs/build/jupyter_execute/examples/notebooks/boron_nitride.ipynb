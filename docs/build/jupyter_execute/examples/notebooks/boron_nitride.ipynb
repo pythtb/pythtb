{
 "cells": [
  {
   "cell_type": "markdown",
   "id": "ed55e68d",
   "metadata": {},
   "source": [
    "(boron-nitride-nb)=\n",
    "# Boron-nitride ribbon\n",
    "\n",
    "This boron-nitride ribbon calculation illustrates a case where it is a good idea to change a nonperiodic lattice vector to be\n",
    "normal to the periodic direction(s).  While the model is physically the same before and after the change, as shown by the\n",
    "identical band structures, the Berry phase is consistent with the polarization in the extended direction only after the change."
   ]
  },
  {
   "cell_type": "code",
   "execution_count": 1,
   "id": "54615503",
   "metadata": {},
   "outputs": [],
   "source": [
    "from pythtb import TBModel, WFArray, Mesh\n",
    "import numpy as np\n",
    "import matplotlib.pyplot as plt"
   ]
  },
  {
   "cell_type": "code",
   "execution_count": 2,
   "id": "5972e80e",
   "metadata": {},
   "outputs": [],
   "source": [
    "# define lattice vectors\n",
    "lat = [[1, 0], [1/2, np.sqrt(3)/2]]\n",
    "# define coordinates of orbitals\n",
    "orb = [[1/3, 1/3], [2/3, 2/3]]\n",
    "\n",
    "# make two dimensional tight-binding boron nitride model\n",
    "my_model = TBModel(2, 2, lat, orb)\n",
    "\n",
    "# set periodic model\n",
    "delta = 0.4\n",
    "t = -1.0\n",
    "my_model.set_onsite([-delta, delta])\n",
    "my_model.set_hop(t, 0, 1, [0, 0])\n",
    "my_model.set_hop(t, 1, 0, [1, 0])\n",
    "my_model.set_hop(t, 1, 0, [0, 1])"
   ]
  },
  {
   "cell_type": "markdown",
   "id": "e55cf057",
   "metadata": {},
   "source": [
    "## `TBModel.cut_piece`\n",
    "\n",
    "Now we cut out 3 unit cells along second direction with open boundary conditions to make a ribbon model."
   ]
  },
  {
   "cell_type": "code",
   "execution_count": 3,
   "id": "7bd215d6",
   "metadata": {},
   "outputs": [
    {
     "name": "stdout",
     "output_type": "stream",
     "text": [
      "----------------------------------------\n",
      "       Tight-binding model report       \n",
      "----------------------------------------\n",
      "r-space dimension           = 2\n",
      "k-space dimension           = 1\n",
      "number of spin components   = 1\n",
      "periodic directions         = [0]\n",
      "number of orbitals          = 6\n",
      "number of electronic states = 6\n",
      "\n",
      "Lattice vectors (Cartesian):\n",
      "  # 0 ===> [ 1.000 ,    0   ]\n",
      "  # 1 ===> [ 0.500 ,  0.866 ]\n",
      "Orbital vectors (dimensionless):\n",
      "  # 0 ===> [ 0.333 ,  0.333 ]\n",
      "  # 1 ===> [ 0.667 ,  0.667 ]\n",
      "  # 2 ===> [ 0.333 ,  1.333 ]\n",
      "  # 3 ===> [ 0.667 ,  1.667 ]\n",
      "  # 4 ===> [ 0.333 ,  2.333 ]\n",
      "  # 5 ===> [ 0.667 ,  2.667 ]\n",
      "Site energies:\n",
      "  # 0 ===> -0.400 \n",
      "  # 1 ===>  0.400 \n",
      "  # 2 ===> -0.400 \n",
      "  # 3 ===>  0.400 \n",
      "  # 4 ===> -0.400 \n",
      "  # 5 ===>  0.400 \n",
      "Hoppings:\n",
      "  < 0 | H | 1 + [ 0.0 ,  0.0 ] >  ===> -1.0000\n",
      "  < 1 | H | 0 + [ 1.0 ,  0.0 ] >  ===> -1.0000\n",
      "  < 1 | H | 2 + [ 0.0 ,  0.0 ] >  ===> -1.0000\n",
      "  < 2 | H | 3 + [ 0.0 ,  0.0 ] >  ===> -1.0000\n",
      "  < 3 | H | 2 + [ 1.0 ,  0.0 ] >  ===> -1.0000\n",
      "  < 3 | H | 4 + [ 0.0 ,  0.0 ] >  ===> -1.0000\n",
      "  < 4 | H | 5 + [ 0.0 ,  0.0 ] >  ===> -1.0000\n",
      "  < 5 | H | 4 + [ 1.0 ,  0.0 ] >  ===> -1.0000\n",
      "Hopping distances:\n",
      "  | pos(0) - pos(1 + [ 0.0 ,  0.0 ]) | =  0.577 \n",
      "  | pos(1) - pos(0 + [ 1.0 ,  0.0 ]) | =  0.577 \n",
      "  | pos(1) - pos(2 + [ 0.0 ,  0.0 ]) | =  0.577 \n",
      "  | pos(2) - pos(3 + [ 0.0 ,  0.0 ]) | =  0.577 \n",
      "  | pos(3) - pos(2 + [ 1.0 ,  0.0 ]) | =  0.577 \n",
      "  | pos(3) - pos(4 + [ 0.0 ,  0.0 ]) | =  0.577 \n",
      "  | pos(4) - pos(5 + [ 0.0 ,  0.0 ]) | =  0.577 \n",
      "  | pos(5) - pos(4 + [ 1.0 ,  0.0 ]) | =  0.577 \n"
     ]
    }
   ],
   "source": [
    "model_orig = my_model.cut_piece(3, 1, glue_edgs=False)\n",
    "print(model_orig)"
   ]
  },
  {
   "cell_type": "markdown",
   "id": "d507defc",
   "metadata": {},
   "source": [
    "## `TBModel.change_nonperiodic_vector`\n",
    "\n",
    "Construct and display new model with nonperiodic lattice vector changed to be normal to the periodic direction"
   ]
  },
  {
   "cell_type": "code",
   "execution_count": 4,
   "id": "60e669b5",
   "metadata": {},
   "outputs": [
    {
     "name": "stdout",
     "output_type": "stream",
     "text": [
      "[array([0.5       , 0.33333333]), array([1.        , 0.66666667]), array([1.        , 1.33333333]), array([1.5       , 1.66666667]), array([1.5       , 2.33333333]), array([2.        , 2.66666667])] [[0.33333333 0.33333333]\n",
      " [0.66666667 0.66666667]\n",
      " [0.33333333 1.33333333]\n",
      " [0.66666667 1.66666667]\n",
      " [0.33333333 2.33333333]\n",
      " [0.66666667 2.66666667]]\n",
      "----------------------------------------\n",
      "       Tight-binding model report       \n",
      "----------------------------------------\n",
      "r-space dimension           = 2\n",
      "k-space dimension           = 1\n",
      "number of spin components   = 1\n",
      "periodic directions         = [0]\n",
      "number of orbitals          = 6\n",
      "number of electronic states = 6\n",
      "\n",
      "Lattice vectors (Cartesian):\n",
      "  # 0 ===> [ 1.000 ,    0   ]\n",
      "  # 1 ===> [   0   ,  0.866 ]\n",
      "Orbital vectors (dimensionless):\n",
      "  # 0 ===> [ 0.500 ,  0.333 ]\n",
      "  # 1 ===> [ 1.000 ,  0.667 ]\n",
      "  # 2 ===> [ 1.000 ,  1.333 ]\n",
      "  # 3 ===> [ 1.500 ,  1.667 ]\n",
      "  # 4 ===> [ 1.500 ,  2.333 ]\n",
      "  # 5 ===> [ 2.000 ,  2.667 ]\n",
      "Site energies:\n",
      "  # 0 ===> -0.400 \n",
      "  # 1 ===>  0.400 \n",
      "  # 2 ===> -0.400 \n",
      "  # 3 ===>  0.400 \n",
      "  # 4 ===> -0.400 \n",
      "  # 5 ===>  0.400 \n",
      "Hoppings:\n",
      "  < 0 | H | 1 + [ 0.0 ,  0.0 ] >  ===> -1.0000\n",
      "  < 1 | H | 0 + [ 1.0 ,  0.0 ] >  ===> -1.0000\n",
      "  < 1 | H | 2 + [ 0.0 ,  0.0 ] >  ===> -1.0000\n",
      "  < 2 | H | 3 + [ 0.0 ,  0.0 ] >  ===> -1.0000\n",
      "  < 3 | H | 2 + [ 1.0 ,  0.0 ] >  ===> -1.0000\n",
      "  < 3 | H | 4 + [ 0.0 ,  0.0 ] >  ===> -1.0000\n",
      "  < 4 | H | 5 + [ 0.0 ,  0.0 ] >  ===> -1.0000\n",
      "  < 5 | H | 4 + [ 1.0 ,  0.0 ] >  ===> -1.0000\n",
      "Hopping distances:\n",
      "  | pos(0) - pos(1 + [ 0.0 ,  0.0 ]) | =  0.577 \n",
      "  | pos(1) - pos(0 + [ 1.0 ,  0.0 ]) | =  0.577 \n",
      "  | pos(1) - pos(2 + [ 0.0 ,  0.0 ]) | =  0.577 \n",
      "  | pos(2) - pos(3 + [ 0.0 ,  0.0 ]) | =  0.577 \n",
      "  | pos(3) - pos(2 + [ 1.0 ,  0.0 ]) | =  0.577 \n",
      "  | pos(3) - pos(4 + [ 0.0 ,  0.0 ]) | =  0.577 \n",
      "  | pos(4) - pos(5 + [ 0.0 ,  0.0 ]) | =  0.577 \n",
      "  | pos(5) - pos(4 + [ 1.0 ,  0.0 ]) | =  0.577 \n"
     ]
    }
   ],
   "source": [
    "model_perp = model_orig.change_nonperiodic_vector(1, to_home_warning=False)\n",
    "print(model_perp)"
   ]
  },
  {
   "cell_type": "markdown",
   "id": "bb33b294",
   "metadata": {},
   "source": [
    "We can check that our choice of lattice vectors do not affect the physical geometry of the system by comparing the Cartesian coordinates of the orbitals before and after the change."
   ]
  },
  {
   "cell_type": "code",
   "execution_count": 5,
   "id": "35f65cfd",
   "metadata": {},
   "outputs": [
    {
     "name": "stdout",
     "output_type": "stream",
     "text": [
      "Original orbital vectors in Cartesian coordinates : \n",
      " [[0.5        0.28867513]\n",
      " [1.         0.57735027]\n",
      " [1.         1.15470054]\n",
      " [1.5        1.44337567]\n",
      " [1.5        2.02072594]\n",
      " [2.         2.30940108]]\n",
      "\n",
      "New orbital vectors in Cartesian coordinates : \n",
      " [[0.5        0.28867513]\n",
      " [1.         0.57735027]\n",
      " [1.         1.15470054]\n",
      " [1.5        1.44337567]\n",
      " [1.5        2.02072594]\n",
      " [2.         2.30940108]]\n"
     ]
    }
   ],
   "source": [
    "print(f\"Original orbital vectors in Cartesian coordinates : \\n {model_orig.get_orb(cartesian=True)}\\n\")\n",
    "print(f\"New orbital vectors in Cartesian coordinates : \\n {model_perp.get_orb(cartesian=True)}\")"
   ]
  },
  {
   "cell_type": "markdown",
   "id": "d11cd8fa",
   "metadata": {},
   "source": [
    "## Bands and Berry phase\n",
    "  \n",
    "Solve both models, showing that the band structures are the same, but Berry phases are different.\n",
    "\n",
    "We will utilize the `Mesh` to store the k-points, and then solve the model on this mesh using the `WFArray` class and its method\n",
    "`solve_k_mesh`.\n",
    "\n",
    ":::{note}\n",
    "The `solve_k_mesh` method will automatically impose periodic boundary conditions on the wave functions when it detects a periodicity in the k-space mesh. To suppress this behavior, you can set the `auto_detect_pbc` argument to `False`.\n",
    ":::\n",
    "\n",
    "To compute the Berry phase, we use `WFArray.berry_phase`, passing the band indices and the mesh axis corresponding to direction we compute the Berry phase."
   ]
  },
  {
   "cell_type": "code",
   "execution_count": 6,
   "id": "378672b3",
   "metadata": {},
   "outputs": [
    {
     "ename": "TypeError",
     "evalue": "Mesh.build_path() got an unexpected keyword argument 'path_k'",
     "output_type": "error",
     "traceback": [
      "\u001b[31m---------------------------------------------------------------------------\u001b[39m",
      "\u001b[31mTypeError\u001b[39m                                 Traceback (most recent call last)",
      "\u001b[36mCell\u001b[39m\u001b[36m \u001b[39m\u001b[32mIn[6]\u001b[39m\u001b[32m, line 21\u001b[39m\n\u001b[32m     18\u001b[39m     berry_phase = wf.berry_phase(\u001b[38;5;28mrange\u001b[39m(n_occ), \u001b[38;5;28mdir\u001b[39m=\u001b[32m0\u001b[39m)\n\u001b[32m     19\u001b[39m     \u001b[38;5;28mprint\u001b[39m(\u001b[33mf\u001b[39m\u001b[33m\"\u001b[39m\u001b[33mBerry phase = \u001b[39m\u001b[38;5;132;01m{\u001b[39;00mberry_phase\u001b[38;5;132;01m}\u001b[39;00m\u001b[38;5;130;01m\\n\u001b[39;00m\u001b[33m\"\u001b[39m)\n\u001b[32m---> \u001b[39m\u001b[32m21\u001b[39m \u001b[43mrun_model\u001b[49m\u001b[43m(\u001b[49m\u001b[43mmodel_orig\u001b[49m\u001b[43m,\u001b[49m\u001b[43m \u001b[49m\u001b[32;43m0\u001b[39;49m\u001b[43m,\u001b[49m\u001b[43m \u001b[49m\u001b[33;43m\"\u001b[39;49m\u001b[33;43mOriginal model\u001b[39;49m\u001b[33;43m\"\u001b[39;49m\u001b[43m)\u001b[49m\n\u001b[32m     22\u001b[39m run_model(model_perp, \u001b[32m1\u001b[39m, \u001b[33m\"\u001b[39m\u001b[33mRevised model\u001b[39m\u001b[33m\"\u001b[39m)\n\u001b[32m     24\u001b[39m fig.tight_layout()\n",
      "\u001b[36mCell\u001b[39m\u001b[36m \u001b[39m\u001b[32mIn[6]\u001b[39m\u001b[32m, line 13\u001b[39m, in \u001b[36mrun_model\u001b[39m\u001b[34m(model, panel, title)\u001b[39m\n\u001b[32m     10\u001b[39m ax[panel].set_xticklabels([-\u001b[32m0.5\u001b[39m, \u001b[32m0.5\u001b[39m])\n\u001b[32m     12\u001b[39m mesh = Mesh(model)\n\u001b[32m---> \u001b[39m\u001b[32m13\u001b[39m \u001b[43mmesh\u001b[49m\u001b[43m.\u001b[49m\u001b[43mbuild_path\u001b[49m\u001b[43m(\u001b[49m\u001b[43mpath_k\u001b[49m\u001b[43m=\u001b[49m\u001b[43mk_vec\u001b[49m\u001b[43m,\u001b[49m\u001b[43m \u001b[49m\u001b[43mn_interp\u001b[49m\u001b[43m=\u001b[49m\u001b[32;43m1\u001b[39;49m\u001b[43m)\u001b[49m\n\u001b[32m     14\u001b[39m wf = WFArray(model, mesh)\n\u001b[32m     15\u001b[39m wf.solve_k_mesh()\n",
      "\u001b[31mTypeError\u001b[39m: Mesh.build_path() got an unexpected keyword argument 'path_k'"
     ]
    },
    {
     "data": {
      "image/png": "[encoded data removed]",
      "text/plain": [
       "<Figure size 650x280 with 2 Axes>"
      ]
     },
     "metadata": {},
     "output_type": "display_data"
    }
   ],
   "source": [
    "fig, ax = plt.subplots(1, 2, figsize=(6.5, 2.8))\n",
    "\n",
    "def run_model(model, panel, title):\n",
    "    numk = 41\n",
    "    k_path = [[-0.5], [0.5]]\n",
    "    k_vec, _, _ = model.k_path(k_path, numk, report=False)\n",
    "\n",
    "    model.plot_bands(k_path=k_path, nk=numk, fig=fig, ax=ax[panel], lc=\"k\", lw=0.5)\n",
    "    ax[panel].set_title(title)\n",
    "    ax[panel].set_xticklabels([-0.5, 0.5])\n",
    "\n",
    "    mesh = Mesh(model)\n",
    "    mesh.build_path(path_k=k_vec, n_interp=1)\n",
    "    wf = WFArray(model, mesh)\n",
    "    wf.solve_k_mesh()\n",
    "\n",
    "    n_occ = model.nstate // 2\n",
    "    berry_phase = wf.berry_phase(range(n_occ), dir=0)\n",
    "    print(f\"Berry phase = {berry_phase}\\n\")\n",
    "\n",
    "run_model(model_orig, 0, \"Original model\")\n",
    "run_model(model_perp, 1, \"Revised model\")\n",
    "\n",
    "fig.tight_layout()\n",
    "plt.show()"
   ]
  },
  {
   "cell_type": "markdown",
   "id": "9b919b78",
   "metadata": {},
   "source": [
    "## Notes\n",
    "\n",
    ":::{note}\n",
    "\n",
    "Let $x$ be along the extended direction and $y$ be normal to it.\n",
    "\n",
    "This model has an $M_x$ mirror symmetry, so the Berry phase is\n",
    "expected to be $0$ or $\\pi$. We find it to be zero, but only after the\n",
    "'change_nonperiodic_vector' method is used to force the nonperiodic\n",
    "\"lattice vector\" to be perpedicular to the extended direction.\n",
    "\n",
    "The physical meaning of the Berry phase in the original model\n",
    "calculation is rather subtle. It is related to the position of\n",
    "the joint Wannier center (i.e., summed over occupied bands) in\n",
    "the direction of reciprocal lattice vector 0, which has a\n",
    "$y$ component as well as an $x$ component (since it must be normal\n",
    "to real space lattice vector 1). The joint Wannier center gets\n",
    "displaced along $y$ as the hopping $t$ is changed, so the Berry\n",
    "phase calculation gets \"contaminated\" by this displacement.\n",
    ":::"
   ]
  }
 ],
 "metadata": {
  "kernelspec": {
   "display_name": "pythtb",
   "language": "python",
   "name": "python3"
  },
  "language_info": {
   "codemirror_mode": {
    "name": "ipython",
    "version": 3
   },
   "file_extension": ".py",
   "mimetype": "text/x-python",
   "name": "python",
   "nbconvert_exporter": "python",
   "pygments_lexer": "ipython3",
   "version": "3.12.11"
  }
 },
 "nbformat": 4,
 "nbformat_minor": 5
}