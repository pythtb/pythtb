{
 "cells": [
  {
   "cell_type": "code",
   "execution_count": 1,
   "id": "9fa85738",
   "metadata": {},
   "outputs": [],
   "source": [
    "from pythtb import TBModel, WFArray, Mesh\n",
    "import numpy as np\n",
    "import matplotlib.pyplot as plt"
   ]
  },
  {
   "cell_type": "code",
   "execution_count": 2,
   "id": "ad391556",
   "metadata": {},
   "outputs": [
    {
     "name": "stdout",
     "output_type": "stream",
     "text": [
      "----------------------------------------\n",
      "       Tight-binding model report       \n",
      "----------------------------------------\n",
      "r-space dimension           = 2\n",
      "k-space dimension           = 2\n",
      "number of spin components   = 1\n",
      "periodic directions         = [0, 1]\n",
      "number of orbitals          = 2\n",
      "number of electronic states = 2\n",
      "\n",
      "Lattice vectors (Cartesian):\n",
      "  # 0 ===> [ 1.000 ,    0   ]\n",
      "  # 1 ===> [ 0.500 ,  0.866 ]\n",
      "Orbital vectors (dimensionless):\n",
      "  # 0 ===> [ 0.333 ,  0.333 ]\n",
      "  # 1 ===> [ 0.667 ,  0.667 ]\n",
      "Site energies:\n",
      "  # 0 ===>  0.100 \n",
      "  # 1 ===> -0.100 \n",
      "Hoppings:\n",
      "  < 0 | H | 1 + [ 0.0 ,  0.0 ] >  ===> -1.0000\n",
      "  < 1 | H | 0 + [ 1.0 ,  0.0 ] >  ===> -1.0000\n",
      "  < 1 | H | 0 + [ 0.0 ,  1.0 ] >  ===> -1.0000\n",
      "Hopping distances:\n",
      "  | pos(0) - pos(1 + [ 0.0 ,  0.0 ]) | =  0.577 \n",
      "  | pos(1) - pos(0 + [ 1.0 ,  0.0 ]) | =  0.577 \n",
      "  | pos(1) - pos(0 + [ 0.0 ,  1.0 ]) | =  0.577 \n"
     ]
    }
   ],
   "source": [
    "# define lattice vectors\n",
    "lat = [[1, 0], [1/2, np.sqrt(3)/2]]\n",
    "# define coordinates of orbitals\n",
    "orb = [[1/3, 1/3], [2/3, 2/3]]\n",
    "\n",
    "# make two dimensional tight-binding graphene model\n",
    "my_model = TBModel(2, 2, lat, orb)\n",
    "\n",
    "# set model parameters\n",
    "delta = -0.1  # small staggered onsite term\n",
    "t = -1.0\n",
    "\n",
    "# set on-site energies\n",
    "my_model.set_onsite([-delta, delta])\n",
    "# set hoppings (amplitude, i, j, [lattice vector to cell containing j])\n",
    "my_model.set_hop(t, 0, 1, [0, 0])\n",
    "my_model.set_hop(t, 1, 0, [1, 0])\n",
    "my_model.set_hop(t, 1, 0, [0, 1])\n",
    "\n",
    "print(my_model)"
   ]
  },
  {
   "cell_type": "code",
   "execution_count": 3,
   "id": "e1eb3d3d",
   "metadata": {},
   "outputs": [],
   "source": [
    "circ_step = 31 # number of steps in the circular path\n",
    "circ_center = np.array([1/3, 2/3]) # the K point\n",
    "circ_radius = 0.1 # the radius of the circular path\n",
    "\n",
    "# construct k-point coordinate on the path\n",
    "kpts = []\n",
    "for i in range(circ_step):\n",
    "    ang = 2*np.pi * i / (circ_step - 1)\n",
    "    kpt = np.array([np.cos(ang) * circ_radius, np.sin(ang) * circ_radius])\n",
    "    kpt += circ_center\n",
    "    kpts.append(kpt)"
   ]
  },
  {
   "cell_type": "code",
   "execution_count": 4,
   "id": "31945525",
   "metadata": {},
   "outputs": [
    {
     "name": "stdout",
     "output_type": "stream",
     "text": [
      "Mesh Summary\n",
      "========================================\n",
      "Type: path\n",
      "Dimensionality: 2 k-dim(s) + 0 λ-dim(s)\n",
      "Number of mesh points: 31\n",
      "Full shape: (31, 2)\n",
      "k-shape: (31)\n",
      "λ-shape: ()\n",
      "k-axes: [0]\n",
      "λ-axes: []\n",
      "Axis names: [k_0]\n",
      "Periodic axes: None\n"
     ]
    }
   ],
   "source": [
    "mesh = Mesh(dim_k=2, axis_types=['k'])\n",
    "mesh.build_path(nodes=kpts, n_interp=1)\n",
    "print(mesh)"
   ]
  },
  {
   "cell_type": "code",
   "execution_count": 5,
   "id": "65b554d8",
   "metadata": {},
   "outputs": [],
   "source": [
    "w_circ = WFArray(my_model, mesh)"
   ]
  },
  {
   "cell_type": "code",
   "execution_count": 6,
   "id": "9fea576e",
   "metadata": {},
   "outputs": [],
   "source": [
    "w_circ.solve_mesh()"
   ]
  },
  {
   "cell_type": "code",
   "execution_count": 7,
   "id": "663e285a",
   "metadata": {},
   "outputs": [
    {
     "name": "stdout",
     "output_type": "stream",
     "text": [
      "Berry phase along circle with radius 0.1 and centered at k-point [0.33333333 0.66666667]\n",
      "for band 0 equals    : 2.5636831499496724\n",
      "for band 1 equals    : -2.563683149949673\n",
      "for both bands equals: 2.197421215525081e-16\n"
     ]
    }
   ],
   "source": [
    "berry_phase_0 = w_circ.berry_phase([0])\n",
    "berry_phase_1 = w_circ.berry_phase([1])\n",
    "berry_phase_both = w_circ.berry_phase([0, 1])\n",
    "\n",
    "print(f\"Berry phase along circle with radius {circ_radius} and centered at k-point {circ_center}\")\n",
    "print(f\"for band 0 equals    : {berry_phase_0}\")\n",
    "print(f\"for band 1 equals    : {berry_phase_1}\")\n",
    "print(f\"for both bands equals: {berry_phase_both}\")"
   ]
  },
  {
   "cell_type": "code",
   "execution_count": 8,
   "id": "8489a5cb",
   "metadata": {},
   "outputs": [],
   "source": [
    "square_step = 31\n",
    "square_center = np.array([1/3, 2/3])\n",
    "square_length = 0.1\n",
    "\n",
    "all_kpt = np.zeros((square_step, square_step, 2))\n",
    "for i in range(square_step):\n",
    "    for j in range(square_step):\n",
    "        kpt = np.array(\n",
    "            [\n",
    "                square_length * (-0.5 + i / (square_step - 1)),\n",
    "                square_length * (-0.5 + j / (square_step - 1)),\n",
    "            ]\n",
    "        )\n",
    "        kpt += square_center\n",
    "        all_kpt[i, j, :] = kpt"
   ]
  },
  {
   "cell_type": "code",
   "execution_count": 9,
   "id": "d4bd99ec",
   "metadata": {},
   "outputs": [
    {
     "name": "stdout",
     "output_type": "stream",
     "text": [
      "Mesh Summary\n",
      "========================================\n",
      "Type: grid\n",
      "Dimensionality: 2 k-dim(s) + 0 λ-dim(s)\n",
      "Number of mesh points: 961\n",
      "Full shape: (31, 31, 2)\n",
      "k-shape: (31, 31)\n",
      "λ-shape: ()\n",
      "k-axes: [0, 1]\n",
      "λ-axes: []\n",
      "Axis names: [k_0, k_1]\n",
      "Full k-space (endpoints on all k-axes): no\n",
      "Periodic axes: None\n"
     ]
    }
   ],
   "source": [
    "mesh = Mesh(dim_k=2, axis_types=['k', 'k'])\n",
    "mesh.build_custom(points=all_kpt)\n",
    "print(mesh) "
   ]
  },
  {
   "cell_type": "code",
   "execution_count": 10,
   "id": "2fe110d8",
   "metadata": {},
   "outputs": [],
   "source": [
    "w_square = WFArray(my_model, mesh)\n",
    "w_square.solve_mesh()"
   ]
  },
  {
   "cell_type": "code",
   "execution_count": 11,
   "id": "12d464e0",
   "metadata": {},
   "outputs": [
    {
     "name": "stdout",
     "output_type": "stream",
     "text": [
      "Berry flux on square patch with length: 0.1 and centered at k-point: [0.33333333 0.66666667]\n",
      "for band 0 equals    :  2.1792164801315166\n",
      "for band 1 equals    :  -2.179216480131517\n",
      "for both bands equals:  6.049657340588258e-16\n"
     ]
    }
   ],
   "source": [
    "b_flux_0 = w_square.berry_flux([0], plane=(0, 1))\n",
    "b_flux_1 = w_square.berry_flux([1], plane=(0, 1))\n",
    "b_flux_both = w_square.berry_flux([0, 1], plane=(0, 1))\n",
    "\n",
    "print(f\"Berry flux on square patch with length: {square_length} and centered at k-point: {square_center}\")\n",
    "print(\"for band 0 equals    : \", np.sum(b_flux_0))\n",
    "print(\"for band 1 equals    : \", np.sum(b_flux_1))\n",
    "print(\"for both bands equals: \", np.sum(b_flux_both))"
   ]
  },
  {
   "cell_type": "code",
   "execution_count": 12,
   "id": "343d4577",
   "metadata": {},
   "outputs": [
    {
     "data": {
      "image/png": "[encoded data removed]",
      "text/plain": [
       "<Figure size 640x480 with 2 Axes>"
      ]
     },
     "metadata": {},
     "output_type": "display_data"
    }
   ],
   "source": [
    "fig, ax = plt.subplots()\n",
    "img = ax.imshow(\n",
    "    b_flux_0.T.real,\n",
    "    origin=\"lower\",\n",
    "    extent=(\n",
    "        all_kpt[0, 0, 0],\n",
    "        all_kpt[-2, 0, 0],\n",
    "        all_kpt[0, 0, 1],\n",
    "        all_kpt[0, -2, 1],\n",
    "    ),\n",
    ")\n",
    "ax.set_title(\"Berry curvature near Dirac cone\")\n",
    "ax.set_xlabel(r\"$k_1$\")\n",
    "ax.set_ylabel(r\"$k_2$\")\n",
    "plt.colorbar(img)\n",
    "fig.tight_layout()"
   ]
  }
 ],
 "metadata": {
  "kernelspec": {
   "display_name": "pythtb-dev",
   "language": "python",
   "name": "python3"
  },
  "language_info": {
   "codemirror_mode": {
    "name": "ipython",
    "version": 3
   },
   "file_extension": ".py",
   "mimetype": "text/x-python",
   "name": "python",
   "nbconvert_exporter": "python",
   "pygments_lexer": "ipython3",
   "version": "3.12.11"
  }
 },
 "nbformat": 4,
 "nbformat_minor": 5
}