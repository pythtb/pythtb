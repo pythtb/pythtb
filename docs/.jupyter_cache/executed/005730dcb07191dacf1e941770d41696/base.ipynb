{
 "cells": [
  {
   "cell_type": "code",
   "execution_count": 1,
   "id": "7bd36cd4",
   "metadata": {},
   "outputs": [],
   "source": [
    "from pythtb import TBModel, WFArray, Mesh\n",
    "import matplotlib.pyplot as plt\n",
    "import numpy as np"
   ]
  },
  {
   "cell_type": "code",
   "execution_count": 2,
   "id": "5b8f3d2b",
   "metadata": {},
   "outputs": [],
   "source": [
    "def set_model(delta, ta, tb):\n",
    "    lat = [[1.0, 0.0, 0.0], [0.0, 1.0, 0.0], [0.0, 0.0, 1.0]]\n",
    "    orb = [[0.0, 0.0, 0.0], [0.5, 0.5, 0.5]]\n",
    "    model = TBModel(3, 3, lat, orb)\n",
    "    model.set_onsite([-delta, delta])\n",
    "    for lvec in ([-1, 0, 0], [0, 0, -1], [-1, -1, 0], [0, -1, -1]):\n",
    "        model.set_hop(ta, 0, 1, lvec)\n",
    "    for lvec in ([0, 0, 0], [0, -1, 0], [-1, -1, -1], [-1, 0, -1]):\n",
    "        model.set_hop(tb, 0, 1, lvec)\n",
    "\n",
    "    return model"
   ]
  },
  {
   "cell_type": "code",
   "execution_count": 3,
   "id": "e11ec476",
   "metadata": {},
   "outputs": [
    {
     "name": "stdout",
     "output_type": "stream",
     "text": [
      "----------------------------------------\n",
      "       Tight-binding model report       \n",
      "----------------------------------------\n",
      "r-space dimension           = 3\n",
      "k-space dimension           = 3\n",
      "number of spin components   = 1\n",
      "periodic directions         = [0, 1, 2]\n",
      "number of orbitals          = 2\n",
      "number of electronic states = 2\n",
      "\n",
      "Lattice vectors (Cartesian):\n",
      "  # 0 ===> [ 1.000 ,    0   ,    0   ]\n",
      "  # 1 ===> [   0   ,  1.000 ,    0   ]\n",
      "  # 2 ===> [   0   ,    0   ,  1.000 ]\n",
      "Orbital vectors (dimensionless):\n",
      "  # 0 ===> [   0   ,    0   ,    0   ]\n",
      "  # 1 ===> [ 0.500 ,  0.500 ,  0.500 ]\n",
      "Site energies:\n",
      "  # 0 ===> -1.000 \n",
      "  # 1 ===>  1.000 \n",
      "Hoppings:\n",
      "  < 0 | H | 1 + [-1.0 ,  0.0 ,  0.0 ] >  ===> 0.4000 \n",
      "  < 0 | H | 1 + [ 0.0 ,  0.0 , -1.0 ] >  ===> 0.4000 \n",
      "  < 0 | H | 1 + [-1.0 , -1.0 ,  0.0 ] >  ===> 0.4000 \n",
      "  < 0 | H | 1 + [ 0.0 , -1.0 , -1.0 ] >  ===> 0.4000 \n",
      "  < 0 | H | 1 + [ 0.0 ,  0.0 ,  0.0 ] >  ===> 0.7000 \n",
      "  < 0 | H | 1 + [ 0.0 , -1.0 ,  0.0 ] >  ===> 0.7000 \n",
      "  < 0 | H | 1 + [-1.0 , -1.0 , -1.0 ] >  ===> 0.7000 \n",
      "  < 0 | H | 1 + [-1.0 ,  0.0 , -1.0 ] >  ===> 0.7000 \n",
      "Hopping distances:\n",
      "  | pos(0) - pos(1 + [-1.0 ,  0.0 ,  0.0 ]) | =  0.866 \n",
      "  | pos(0) - pos(1 + [ 0.0 ,  0.0 , -1.0 ]) | =  0.866 \n",
      "  | pos(0) - pos(1 + [-1.0 , -1.0 ,  0.0 ]) | =  0.866 \n",
      "  | pos(0) - pos(1 + [ 0.0 , -1.0 , -1.0 ]) | =  0.866 \n",
      "  | pos(0) - pos(1 + [ 0.0 ,  0.0 ,  0.0 ]) | =  0.866 \n",
      "  | pos(0) - pos(1 + [ 0.0 , -1.0 ,  0.0 ]) | =  0.866 \n",
      "  | pos(0) - pos(1 + [-1.0 , -1.0 , -1.0 ]) | =  0.866 \n",
      "  | pos(0) - pos(1 + [-1.0 ,  0.0 , -1.0 ]) | =  0.866 \n"
     ]
    }
   ],
   "source": [
    "delta = 1.0  # site energy shift\n",
    "ta = 0.4  # six weaker hoppings\n",
    "tb = 0.7  # two stronger hoppings\n",
    "bulk_model = set_model(delta, ta, tb)\n",
    "\n",
    "print(bulk_model)"
   ]
  },
  {
   "cell_type": "code",
   "execution_count": 4,
   "id": "f09dd908",
   "metadata": {},
   "outputs": [
    {
     "name": "stdout",
     "output_type": "stream",
     "text": [
      "----------------------------------------\n",
      "       Tight-binding model report       \n",
      "----------------------------------------\n",
      "r-space dimension           = 3\n",
      "k-space dimension           = 2\n",
      "number of spin components   = 1\n",
      "periodic directions         = [0, 1]\n",
      "number of orbitals          = 17\n",
      "number of electronic states = 17\n",
      "\n"
     ]
    }
   ],
   "source": [
    "# make slab model\n",
    "num_layers = 9  # number of layers\n",
    "slab_model = bulk_model.cut_piece(num_layers, 2, glue_edgs=False)\n",
    "\n",
    "# remove top orbital so top and bottom have the same termination\n",
    "slab_model = slab_model.remove_orb(2 * num_layers - 1)\n",
    "slab_model.report(short=True)"
   ]
  },
  {
   "cell_type": "code",
   "execution_count": 5,
   "id": "86f254f6",
   "metadata": {},
   "outputs": [
    {
     "name": "stdout",
     "output_type": "stream",
     "text": [
      "VB min, max = -4.447 , -1.000\n",
      "CB min, max =  1.000 ,  4.447\n"
     ]
    }
   ],
   "source": [
    "# solve on grid to check insulating\n",
    "nk = 10\n",
    "k_1d = np.linspace(0, 1, nk, endpoint=False)\n",
    "kpts = []\n",
    "for kx in k_1d:\n",
    "    for ky in k_1d:\n",
    "        kpts.append([kx, ky])\n",
    "\n",
    "evals = slab_model.solve_ham(kpts)\n",
    "\n",
    "# delta > 0, so there are num_layers valence and num_layers - 1 conduction bands\n",
    "en_valence = evals[:, :num_layers]\n",
    "en_conduction = evals[:, num_layers + 1 :]\n",
    "\n",
    "print(f\"VB min, max = {np.min(en_valence):6.3f} , {np.max(en_valence):6.3f}\")\n",
    "print(f\"CB min, max = {np.min(en_conduction):6.3f} , {np.max(en_conduction):6.3f}\")"
   ]
  },
  {
   "cell_type": "code",
   "execution_count": 6,
   "id": "d5f91f86",
   "metadata": {},
   "outputs": [],
   "source": [
    "nk = 9\n",
    "\n",
    "mesh = Mesh(dim_k=2, axis_types=['k', 'k'])\n",
    "mesh.build_grid(shape=(nk, nk))\n",
    "bloch_arr = WFArray(slab_model, mesh)\n",
    "bloch_arr.solve_mesh()"
   ]
  },
  {
   "cell_type": "code",
   "execution_count": 7,
   "id": "24989968",
   "metadata": {},
   "outputs": [
    {
     "name": "stdout",
     "output_type": "stream",
     "text": [
      "\n",
      "Locations of hybrid Wannier centers along z:\n",
      "\n",
      "  Layer         0       1       2       3       4       5       6       7       8    \n",
      "  Mean     0.0654  1.0121  2.0032  3.0009  4.0000  4.9991  5.9968  6.9879  7.9346\n",
      "  Std Dev  0.0435  0.0129  0.0041  0.0013  0.0000  0.0013  0.0041  0.0129  0.0435\n"
     ]
    }
   ],
   "source": [
    "# initalize wf_array to hold HWFs, and Numpy array for HWFCs\n",
    "hwf_arr = bloch_arr.empty_like(nstates=num_layers)\n",
    "hwfc = np.zeros([nk, nk, num_layers])\n",
    "\n",
    "# loop over k points and fill arrays with HW centers and vectors\n",
    "for ix in range(nk):\n",
    "    for iy in range(nk):\n",
    "        (val, vec) = bloch_arr.position_hwf(\n",
    "            [ix, iy], occ=list(range(num_layers)), dir=2, hwf_evec=True, basis=\"orbital\"\n",
    "        )\n",
    "        hwfc[ix, iy] = val\n",
    "        hwf_arr[ix, iy] = vec\n",
    "\n",
    "# impose periodic boundary conditions\n",
    "hwf_arr.impose_pbc(0, 0)\n",
    "hwf_arr.impose_pbc(1, 1)\n",
    "\n",
    "# compute and print mean and standard deviation of Wannier centers by layer\n",
    "print(\"\\nLocations of hybrid Wannier centers along z:\\n\")\n",
    "print(\"  Layer      \" + num_layers * \"  %2d    \" % tuple(range(num_layers)))\n",
    "print(\"  Mean   \" + num_layers * \"%8.4f\" % tuple(np.mean(hwfc, axis=(0, 1))))\n",
    "print(\"  Std Dev\" + num_layers * \"%8.4f\" % tuple(np.std(hwfc, axis=(0, 1))))"
   ]
  },
  {
   "cell_type": "code",
   "execution_count": 8,
   "id": "f290a80f",
   "metadata": {},
   "outputs": [
    {
     "name": "stdout",
     "output_type": "stream",
     "text": [
      "\n",
      "Berry phases along x (rows correspond to k_y points):\n",
      "\n",
      "  Layer         0       1       2       3       4       5       6       7       8    \n",
      "           0.0603  0.0090  0.0022  0.0006 -0.0000 -0.0006 -0.0022 -0.0090 -0.0603\n",
      "           0.0553  0.0075  0.0017  0.0004 -0.0000 -0.0004 -0.0017 -0.0075 -0.0553\n",
      "           0.0403  0.0039  0.0007  0.0001 -0.0000 -0.0001 -0.0007 -0.0039 -0.0403\n",
      "           0.0170  0.0006  0.0000  0.0000 -0.0000 -0.0000 -0.0000 -0.0006 -0.0170\n",
      "          -0.0000  0.0000 -0.0000 -0.0000  0.0000  0.0000 -0.0000  0.0000 -0.0000\n",
      "           0.0170  0.0006  0.0000  0.0000  0.0000 -0.0000 -0.0000 -0.0006 -0.0170\n",
      "           0.0403  0.0039  0.0007  0.0001 -0.0000 -0.0001 -0.0007 -0.0039 -0.0403\n",
      "           0.0553  0.0075  0.0017  0.0004 -0.0000 -0.0004 -0.0017 -0.0075 -0.0553\n",
      "           0.0603  0.0090  0.0022  0.0006 -0.0000 -0.0006 -0.0022 -0.0090 -0.0603\n",
      "\n",
      "  Ave      0.0357  0.0041  0.0009  0.0002 -0.0000 -0.0002 -0.0009 -0.0041 -0.0357\n"
     ]
    }
   ],
   "source": [
    "# compute and print layer contributions to polarization along x, then y\n",
    "px = np.zeros((num_layers, nk))\n",
    "py = np.zeros((num_layers, nk))\n",
    "for n in range(num_layers):\n",
    "    px[n, :] = hwf_arr.berry_phase(dir=0, occ=[n]) / (2*np.pi)\n",
    "    py[n, :] = hwf_arr.berry_phase(dir=1, occ=[n]) / (2*np.pi)\n",
    "\n",
    "print(\"\\nBerry phases along x (rows correspond to k_y points):\\n\")\n",
    "print(\"  Layer      \" + num_layers * \"  %2d    \" % tuple(range(num_layers)))\n",
    "for k in range(nk):\n",
    "    print(\"         \" + num_layers * \"%8.4f\" % tuple(px[:, k]))\n",
    "# when averaging, don't count last k-point\n",
    "px_mean = np.mean(px[:, :-1], axis=1)\n",
    "py_mean = np.mean(py[:, :-1], axis=1)\n",
    "print(\"\\n  Ave    \" + num_layers * \"%8.4f\" % tuple(px_mean))"
   ]
  },
  {
   "cell_type": "code",
   "execution_count": 9,
   "id": "410d4cfd",
   "metadata": {},
   "outputs": [
    {
     "name": "stdout",
     "output_type": "stream",
     "text": [
      "\n",
      "  Surface sums: Top, Bottom =  -0.0000 ,  -0.0000\n",
      "\n"
     ]
    }
   ],
   "source": [
    "nlh = num_layers // 2\n",
    "sum_top = np.sum(py_mean[:nlh])\n",
    "sum_bot = np.sum(py_mean[-nlh:])\n",
    "print(\"\\n  Surface sums: Top, Bottom = %8.4f , %8.4f\\n\" % (sum_top, sum_bot))"
   ]
  },
  {
   "cell_type": "code",
   "execution_count": 10,
   "id": "a4a88521",
   "metadata": {},
   "outputs": [
    {
     "data": {
      "text/plain": [
       "Text(0, 0.5, 'Contribution to $P_x$')"
      ]
     },
     "execution_count": 10,
     "metadata": {},
     "output_type": "execute_result"
    },
    {
     "data": {
      "image/png": "[encoded data removed]",
      "text/plain": [
       "<Figure size 640x480 with 1 Axes>"
      ]
     },
     "metadata": {},
     "output_type": "display_data"
    }
   ],
   "source": [
    "fig = plt.figure()\n",
    "plt.bar(range(num_layers), px_mean)\n",
    "plt.axhline(0.0, linewidth=0.8, color=\"k\")\n",
    "plt.xticks(range(num_layers))\n",
    "plt.xlabel(\"Layer index of hybrid Wannier band\")\n",
    "plt.ylabel(r\"Contribution to $P_x$\")"
   ]
  }
 ],
 "metadata": {
  "kernelspec": {
   "display_name": "pythtb",
   "language": "python",
   "name": "python3"
  },
  "language_info": {
   "codemirror_mode": {
    "name": "ipython",
    "version": 3
   },
   "file_extension": ".py",
   "mimetype": "text/x-python",
   "name": "python",
   "nbconvert_exporter": "python",
   "pygments_lexer": "ipython3",
   "version": "3.12.11"
  }
 },
 "nbformat": 4,
 "nbformat_minor": 5
}