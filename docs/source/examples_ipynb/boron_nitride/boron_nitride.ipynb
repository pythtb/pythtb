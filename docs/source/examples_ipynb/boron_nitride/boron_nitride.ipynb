{
 "cells": [
  {
   "cell_type": "markdown",
   "id": "ed55e68d",
   "metadata": {},
   "source": [
    "# Boron Nitride"
   ]
  },
  {
   "cell_type": "code",
   "execution_count": 2,
   "id": "54615503",
   "metadata": {},
   "outputs": [],
   "source": [
    "from pythtb import TBModel, WFArray, Mesh\n",
    "from pythtb.plotting import plot_bands\n",
    "import numpy as np\n",
    "import matplotlib.pyplot as plt"
   ]
  },
  {
   "cell_type": "code",
   "execution_count": 3,
   "id": "5972e80e",
   "metadata": {},
   "outputs": [],
   "source": [
    "# define lattice vectors\n",
    "lat = [[1, 0], [1/2, np.sqrt(3)/2]]\n",
    "# define coordinates of orbitals\n",
    "orb = [[1/3, 1/3], [2/3, 2/3]]\n",
    "\n",
    "# make two dimensional tight-binding boron nitride model\n",
    "my_model = TBModel(2, 2, lat, orb)\n",
    "\n",
    "# set periodic model\n",
    "delta = 0.4\n",
    "t = -1.0\n",
    "my_model.set_onsite([-delta, delta])\n",
    "my_model.set_hop(t, 0, 1, [0, 0])\n",
    "my_model.set_hop(t, 1, 0, [1, 0])\n",
    "my_model.set_hop(t, 1, 0, [0, 1])"
   ]
  },
  {
   "cell_type": "markdown",
   "id": "e55cf057",
   "metadata": {},
   "source": [
    "## `TBModel.cut_piece`\n",
    "\n",
    "Now we cut out 3 unit cells along second direction with open boundary conditions to make a ribbon model."
   ]
  },
  {
   "cell_type": "code",
   "execution_count": 4,
   "id": "7bd215d6",
   "metadata": {},
   "outputs": [
    {
     "name": "stdout",
     "output_type": "stream",
     "text": [
      "----------------------------------------\n",
      "       Tight-binding model report       \n",
      "----------------------------------------\n",
      "r-space dimension           = 2\n",
      "k-space dimension           = 1\n",
      "number of spin components   = 1\n",
      "periodic directions         = [0]\n",
      "number of orbitals          = 6\n",
      "number of electronic states = 6\n",
      "\n",
      "Lattice vectors (Cartesian):\n",
      "  # 0 ===> [ 1.000 ,    0   ]\n",
      "  # 1 ===> [ 0.500 ,  0.866 ]\n",
      "Orbital vectors (dimensionless):\n",
      "  # 0 ===> [ 0.333 ,  0.333 ]\n",
      "  # 1 ===> [ 0.667 ,  0.667 ]\n",
      "  # 2 ===> [ 0.333 ,  1.333 ]\n",
      "  # 3 ===> [ 0.667 ,  1.667 ]\n",
      "  # 4 ===> [ 0.333 ,  2.333 ]\n",
      "  # 5 ===> [ 0.667 ,  2.667 ]\n",
      "Site energies:\n",
      "  # 0 ===> -0.400 \n",
      "  # 1 ===>  0.400 \n",
      "  # 2 ===> -0.400 \n",
      "  # 3 ===>  0.400 \n",
      "  # 4 ===> -0.400 \n",
      "  # 5 ===>  0.400 \n",
      "Hoppings:\n",
      "  < 0 | H | 1 + [ 0.0 ,  0.0 ] >  ===> -1.0000\n",
      "  < 1 | H | 0 + [ 1.0 ,  0.0 ] >  ===> -1.0000\n",
      "  < 1 | H | 2 + [ 0.0 ,  0.0 ] >  ===> -1.0000\n",
      "  < 2 | H | 3 + [ 0.0 ,  0.0 ] >  ===> -1.0000\n",
      "  < 3 | H | 2 + [ 1.0 ,  0.0 ] >  ===> -1.0000\n",
      "  < 3 | H | 4 + [ 0.0 ,  0.0 ] >  ===> -1.0000\n",
      "  < 4 | H | 5 + [ 0.0 ,  0.0 ] >  ===> -1.0000\n",
      "  < 5 | H | 4 + [ 1.0 ,  0.0 ] >  ===> -1.0000\n",
      "Hopping distances:\n",
      "  | pos(0) - pos(1 + [ 0.0 ,  0.0 ]) | =  0.577 \n",
      "  | pos(1) - pos(0 + [ 1.0 ,  0.0 ]) | =  0.577 \n",
      "  | pos(1) - pos(2 + [ 0.0 ,  0.0 ]) | =  0.577 \n",
      "  | pos(2) - pos(3 + [ 0.0 ,  0.0 ]) | =  0.577 \n",
      "  | pos(3) - pos(2 + [ 1.0 ,  0.0 ]) | =  0.577 \n",
      "  | pos(3) - pos(4 + [ 0.0 ,  0.0 ]) | =  0.577 \n",
      "  | pos(4) - pos(5 + [ 0.0 ,  0.0 ]) | =  0.577 \n",
      "  | pos(5) - pos(4 + [ 1.0 ,  0.0 ]) | =  0.577 \n"
     ]
    }
   ],
   "source": [
    "model_orig = my_model.cut_piece(3, 1, glue_edgs=False)\n",
    "print(model_orig)"
   ]
  },
  {
   "cell_type": "markdown",
   "id": "d507defc",
   "metadata": {},
   "source": [
    "## `TBModel.change_nonperiodic_vector`\n",
    "\n",
    "Construct and display new model with nonperiodic lattice vector changed to be normal to the periodic direction"
   ]
  },
  {
   "cell_type": "code",
   "execution_count": null,
   "id": "60e669b5",
   "metadata": {},
   "outputs": [
    {
     "name": "stdout",
     "output_type": "stream",
     "text": [
      "----------------------------------------\n",
      "       Tight-binding model report       \n",
      "----------------------------------------\n",
      "r-space dimension           = 2\n",
      "k-space dimension           = 1\n",
      "number of spin components   = 1\n",
      "periodic directions         = [0]\n",
      "number of orbitals          = 6\n",
      "number of electronic states = 6\n",
      "\n",
      "Lattice vectors (Cartesian):\n",
      "  # 0 ===> [ 1.000 ,    0   ]\n",
      "  # 1 ===> [   0   ,  0.866 ]\n",
      "Orbital vectors (dimensionless):\n",
      "  # 0 ===> [ 0.500 ,  0.333 ]\n",
      "  # 1 ===> [ 1.000 ,  0.667 ]\n",
      "  # 2 ===> [ 1.000 ,  1.333 ]\n",
      "  # 3 ===> [ 1.500 ,  1.667 ]\n",
      "  # 4 ===> [ 1.500 ,  2.333 ]\n",
      "  # 5 ===> [ 2.000 ,  2.667 ]\n",
      "Site energies:\n",
      "  # 0 ===> -0.400 \n",
      "  # 1 ===>  0.400 \n",
      "  # 2 ===> -0.400 \n",
      "  # 3 ===>  0.400 \n",
      "  # 4 ===> -0.400 \n",
      "  # 5 ===>  0.400 \n",
      "Hoppings:\n",
      "  < 0 | H | 1 + [ 0.0 ,  0.0 ] >  ===> -1.0000\n",
      "  < 1 | H | 0 + [ 1.0 ,  0.0 ] >  ===> -1.0000\n",
      "  < 1 | H | 2 + [ 0.0 ,  0.0 ] >  ===> -1.0000\n",
      "  < 2 | H | 3 + [ 0.0 ,  0.0 ] >  ===> -1.0000\n",
      "  < 3 | H | 2 + [ 1.0 ,  0.0 ] >  ===> -1.0000\n",
      "  < 3 | H | 4 + [ 0.0 ,  0.0 ] >  ===> -1.0000\n",
      "  < 4 | H | 5 + [ 0.0 ,  0.0 ] >  ===> -1.0000\n",
      "  < 5 | H | 4 + [ 1.0 ,  0.0 ] >  ===> -1.0000\n",
      "Hopping distances:\n",
      "  | pos(0) - pos(1 + [ 0.0 ,  0.0 ]) | =  0.577 \n",
      "  | pos(1) - pos(0 + [ 1.0 ,  0.0 ]) | =  0.577 \n",
      "  | pos(1) - pos(2 + [ 0.0 ,  0.0 ]) | =  0.577 \n",
      "  | pos(2) - pos(3 + [ 0.0 ,  0.0 ]) | =  0.577 \n",
      "  | pos(3) - pos(2 + [ 1.0 ,  0.0 ]) | =  0.577 \n",
      "  | pos(3) - pos(4 + [ 0.0 ,  0.0 ]) | =  0.577 \n",
      "  | pos(4) - pos(5 + [ 0.0 ,  0.0 ]) | =  0.577 \n",
      "  | pos(5) - pos(4 + [ 1.0 ,  0.0 ]) | =  0.577 \n"
     ]
    }
   ],
   "source": [
    "model_perp = model_orig.change_nonperiodic_vector(1, to_home_warning=False)\n",
    "print(model_perp)"
   ]
  },
  {
   "cell_type": "markdown",
   "id": "d11cd8fa",
   "metadata": {},
   "source": [
    "## Bands and Berry phase\n",
    "  \n",
    "Solve both models, showing that the band structures are the same, but Berry phases are different"
   ]
  },
  {
   "cell_type": "code",
   "execution_count": null,
   "id": "378672b3",
   "metadata": {},
   "outputs": [
    {
     "name": "stdout",
     "output_type": "stream",
     "text": [
      "Original model\n",
      "\n",
      "Berry phase = [-0.4425504]\n",
      "\n",
      "Revised model\n",
      "\n",
      "Berry phase = [-7.34788079e-16]\n",
      "\n"
     ]
    },
    {
     "data": {
      "image/png": "[encoded data removed]",
      "text/plain": [
       "<Figure size 650x280 with 2 Axes>"
      ]
     },
     "metadata": {},
     "output_type": "display_data"
    }
   ],
   "source": [
    "fig, ax = plt.subplots(1, 2, figsize=(6.5, 2.8))\n",
    "\n",
    "def run_model(model, panel):\n",
    "    numk = 41\n",
    "    k_nodes = [[-0.5], [0.5]]\n",
    "    k_vec, _, _ = model.k_path(k_nodes, numk, report=False)\n",
    "\n",
    "    model.plot_bands(k_path=k_nodes, nk=numk, fig=fig, ax=ax[panel], lc=\"k\", lw=0.5)\n",
    "\n",
    "    mesh = Mesh(model, path_k=k_vec, n_interp=1)\n",
    "    wf = WFArray(model, mesh)\n",
    "    wf.solve_k_mesh()\n",
    "\n",
    "    n_occ = model.nstate // 2\n",
    "    berry_phase = wf.berry_phase(range(n_occ), dir=0)\n",
    "    print(f\"Berry phase = {berry_phase}\\n\")\n",
    "\n",
    "print(\"Original model\\n\")\n",
    "run_model(model_orig, 0)\n",
    "\n",
    "print(\"Revised model\\n\")\n",
    "run_model(model_perp, 1)\n",
    "\n",
    "# save figure\n",
    "fig.tight_layout()\n",
    "plt.show()"
   ]
  },
  {
   "cell_type": "markdown",
   "id": "9b919b78",
   "metadata": {},
   "source": [
    "## Notes\n",
    "\n",
    "Let x be along the extended direction and y be normal to it.\n",
    "\n",
    "This model has an $M_x$ mirror symmetry, so the Berry phase is\n",
    "expected to be $0$ or $\\pi$. We find it to be zero, but only after the\n",
    "'change_nonperiodic_vector' method is used to force the nonperiodic\n",
    "\"lattice vector\" to be perpedicular to the extended direction.\n",
    "\n",
    "The physical meaning of the Berry phase in the original model\n",
    "calculation is rather subtle. It is related to the position of\n",
    "the joint Wannier center (i.e., summed over occupied bands) in\n",
    "the direction of reciprocal lattice vector 0, which has a\n",
    "$y$ component as well as an $x$ component (since it must be normal\n",
    "to real space lattice vector 1). The joint Wannier center gets\n",
    "displaced along $y$ as the hopping $t$ is changed, so the Berry\n",
    "phase calculation gets \"contaminated\" by this displacement."
   ]
  }
 ],
 "metadata": {
  "kernelspec": {
   "display_name": "pythtb",
   "language": "python",
   "name": "python3"
  },
  "language_info": {
   "codemirror_mode": {
    "name": "ipython",
    "version": 3
   },
   "file_extension": ".py",
   "mimetype": "text/x-python",
   "name": "python",
   "nbconvert_exporter": "python",
   "pygments_lexer": "ipython3",
   "version": "3.11.11"
  }
 },
 "nbformat": 4,
 "nbformat_minor": 5
}
