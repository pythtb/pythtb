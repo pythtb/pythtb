{
 "cells": [
  {
   "cell_type": "markdown",
   "id": "ed55e68d",
   "metadata": {},
   "source": [
    "# Boron Nitride"
   ]
  },
  {
   "cell_type": "code",
   "execution_count": 2,
   "id": "54615503",
   "metadata": {},
   "outputs": [],
   "source": [
    "from pythtb import TBModel, WFArray\n",
    "import numpy as np\n",
    "import matplotlib.pyplot as plt"
   ]
  },
  {
   "cell_type": "code",
   "execution_count": 3,
   "id": "5972e80e",
   "metadata": {},
   "outputs": [],
   "source": [
    "# define lattice vectors\n",
    "lat = [[1, 0], [1/2, np.sqrt(3)/2]]\n",
    "# define coordinates of orbitals\n",
    "orb = [[1/3, 1/3], [2/3, 2/3]]\n",
    "\n",
    "# make two dimensional tight-binding boron nitride model\n",
    "my_model = TBModel(2, 2, lat, orb)\n",
    "\n",
    "# set periodic model\n",
    "delta = 0.4\n",
    "t = -1.0\n",
    "my_model.set_onsite([-delta, delta])\n",
    "my_model.set_hop(t, 0, 1, [0, 0])\n",
    "my_model.set_hop(t, 1, 0, [1, 0])\n",
    "my_model.set_hop(t, 1, 0, [0, 1])"
   ]
  },
  {
   "cell_type": "markdown",
   "id": "e55cf057",
   "metadata": {},
   "source": [
    "Now we cut out 3 unit cells along second direction with open boundary conditions to make a ribbon model."
   ]
  },
  {
   "cell_type": "code",
   "execution_count": null,
   "id": "7bd215d6",
   "metadata": {},
   "outputs": [],
   "source": [
    "model_orig = my_model.cut_piece(3, 1, glue_edgs=False)\n",
    "print(model_orig)"
   ]
  },
  {
   "cell_type": "markdown",
   "id": "d507defc",
   "metadata": {},
   "source": [
    "Construct and display new model with nonperiodic lattice vector changed to be normal to the periodic direction"
   ]
  },
  {
   "cell_type": "code",
   "execution_count": 5,
   "id": "60e669b5",
   "metadata": {},
   "outputs": [
    {
     "name": "stdout",
     "output_type": "stream",
     "text": [
      "----------------------------------------\n",
      "       Tight-binding model report       \n",
      "----------------------------------------\n",
      "r-space dimension           = 2\n",
      "k-space dimension           = 1\n",
      "number of spin components   = 1\n",
      "periodic directions         = [0]\n",
      "number of orbitals          = 6\n",
      "number of electronic states = 6\n",
      "\n",
      "Lattice vectors (Cartesian):\n",
      "  # 0 ===> [ 1.000 ,    0   ]\n",
      "  # 1 ===> [   0   ,  0.866 ]\n",
      "Orbital vectors (dimensionless):\n",
      "  # 0 ===> [ 0.500 ,  0.333 ]\n",
      "  # 1 ===> [ 1.000 ,  0.667 ]\n",
      "  # 2 ===> [ 1.000 ,  1.333 ]\n",
      "  # 3 ===> [ 1.500 ,  1.667 ]\n",
      "  # 4 ===> [ 1.500 ,  2.333 ]\n",
      "  # 5 ===> [ 2.000 ,  2.667 ]\n",
      "Site energies:\n",
      "  # 0 ===> -0.400 \n",
      "  # 1 ===>  0.400 \n",
      "  # 2 ===> -0.400 \n",
      "  # 3 ===>  0.400 \n",
      "  # 4 ===> -0.400 \n",
      "  # 5 ===>  0.400 \n",
      "Hoppings:\n",
      "  < 0 | H | 1 + [ 0.0 ,  0.0 ] >  ===> -1.0000\n",
      "  < 1 | H | 0 + [ 1.0 ,  0.0 ] >  ===> -1.0000\n",
      "  < 1 | H | 2 + [ 0.0 ,  0.0 ] >  ===> -1.0000\n",
      "  < 2 | H | 3 + [ 0.0 ,  0.0 ] >  ===> -1.0000\n",
      "  < 3 | H | 2 + [ 1.0 ,  0.0 ] >  ===> -1.0000\n",
      "  < 3 | H | 4 + [ 0.0 ,  0.0 ] >  ===> -1.0000\n",
      "  < 4 | H | 5 + [ 0.0 ,  0.0 ] >  ===> -1.0000\n",
      "  < 5 | H | 4 + [ 1.0 ,  0.0 ] >  ===> -1.0000\n",
      "Hopping distances:\n",
      "  | pos(0) - pos(1 + [ 0.0 ,  0.0 ]) | =  0.577 \n",
      "  | pos(1) - pos(0 + [ 1.0 ,  0.0 ]) | =  0.577 \n",
      "  | pos(1) - pos(2 + [ 0.0 ,  0.0 ]) | =  0.577 \n",
      "  | pos(2) - pos(3 + [ 0.0 ,  0.0 ]) | =  0.577 \n",
      "  | pos(3) - pos(2 + [ 1.0 ,  0.0 ]) | =  0.577 \n",
      "  | pos(3) - pos(4 + [ 0.0 ,  0.0 ]) | =  0.577 \n",
      "  | pos(4) - pos(5 + [ 0.0 ,  0.0 ]) | =  0.577 \n",
      "  | pos(5) - pos(4 + [ 1.0 ,  0.0 ]) | =  0.577 \n"
     ]
    }
   ],
   "source": [
    "# reset second lattice vector normal to the first one\n",
    "model_perp = model_orig.change_nonperiodic_vector(1, to_home_warning=False)\n",
    "print(model_perp)"
   ]
  },
  {
   "cell_type": "code",
   "execution_count": null,
   "id": "378672b3",
   "metadata": {},
   "outputs": [],
   "source": [
    "# initialize figure with subplots\n",
    "fig, ax = plt.subplots(1, 2, figsize=(6.5, 2.8))\n",
    "\n",
    "# ------------------------------------------------------------------\n",
    "# function to print model, plot band structure, and compute Berry phase\n",
    "def run_model(model, panel):\n",
    "    numk = 41\n",
    "    (k_vec, k_dist, k_node) = model.k_path([[-0.5], [0.5]], numk, report=False)\n",
    "    (eval, evec) = model.solve_ham(k_vec, return_eigvecs=True)\n",
    "    \n",
    "    # plot band structure\n",
    "    ax[panel].set_title(\"Band structure - \" + [\"original\", \"modified\"][panel])\n",
    "    ax[panel].set_xlabel(\"Reduced wavevector\")\n",
    "    ax[panel].set_ylabel(\"Band energy\")\n",
    "    ax[panel].set_xlim(-0.5, 0.5)\n",
    "    n_bands = eval.shape[-1]\n",
    "    for band in range(n_bands):\n",
    "        ax[panel].plot(k_vec, eval[:, band], \"k-\", linewidth=0.5)\n",
    "    \n",
    "    # compute and print Berry phase at half filling\n",
    "    wf = WFArray(model, [numk])\n",
    "    wf.solve_on_grid([0.0])\n",
    "    n_occ = n_bands // 2\n",
    "    berry_phase = wf.berry_phase(range(n_occ), dir=0)\n",
    "    print(f\"Berry phase = {berry_phase}\\n\")\n",
    "    \n",
    "print(\"\\n========================================================\")\n",
    "print(\"solve both models, showing that the band structures are\")\n",
    "print(\"the same, but Berry phases are different\")\n",
    "print(\"========================================================\\n\")\n",
    "\n",
    "print(\"Original model\\n\")\n",
    "run_model(model_orig, 0)\n",
    "\n",
    "print(\"Revised model\\n\")\n",
    "run_model(model_perp, 1)\n",
    "\n",
    "# save figure\n",
    "fig.tight_layout()\n",
    "plt.show()\n",
    "print('Band structures have been saved to \"bn_ribbon_berry.pdf\"\\n')\n",
    "\n",
    "# Notes\n",
    "#\n",
    "# Let x be along the extended direction and y be normal to it.\n",
    "#\n",
    "# This model has an M_x mirror symmetry, so the Berry phase is\n",
    "# expected to be 0 or pi.  We find it to be zero, but only after the\n",
    "# 'change_nonperiodic_vector' method is used to force the nonperiodic\n",
    "# \"lattice vector\" to be perpedicular to the extended direction.\n",
    "#\n",
    "# The physical meaning of the Berry phase in the original model\n",
    "# calculation is rather subtle.  It is related to the position of\n",
    "# the joint Wannier center (i.e., summed over occupied bands) in\n",
    "# the direction of reciprocal lattice vector 0, which has a\n",
    "# y component as well as an x component (since it must be normal\n",
    "# to real space lattice vector 1).  The joint Wannier center gets\n",
    "# displaced along y as the hopping 't' is changed, so the Berry\n",
    "# phase calculation gets \"contaminated\" by this displacement.\n"
   ]
  }
 ],
 "metadata": {
  "kernelspec": {
   "display_name": "pythtb",
   "language": "python",
   "name": "python3"
  },
  "language_info": {
   "codemirror_mode": {
    "name": "ipython",
    "version": 3
   },
   "file_extension": ".py",
   "mimetype": "text/x-python",
   "name": "python",
   "nbconvert_exporter": "python",
   "pygments_lexer": "ipython3",
   "version": "3.11.11"
  }
 },
 "nbformat": 4,
 "nbformat_minor": 5
}
