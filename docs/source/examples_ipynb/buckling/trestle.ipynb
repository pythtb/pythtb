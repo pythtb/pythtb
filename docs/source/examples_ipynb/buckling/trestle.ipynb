{
 "cells": [
  {
   "cell_type": "markdown",
   "id": "fee1c40d",
   "metadata": {},
   "source": [
    "# Trestle"
   ]
  },
  {
   "cell_type": "code",
   "execution_count": null,
   "id": "dda2c7a7",
   "metadata": {},
   "outputs": [],
   "source": [
    "from pythtb.tb_model import TBModel  \n",
    "import matplotlib.pyplot as plt\n",
    "\n",
    "# define lattice vectors\n",
    "lat = [[2.0, 0.0], [0.0, 1.0]]\n",
    "# define coordinates of orbitals\n",
    "orb = [[0.0, 0.0], [0.5, 1.0]]\n",
    "\n",
    "# make one dimensional tight-binding model of a trestle-like structure\n",
    "my_model = TBModel(1, 2, lat, orb, per=[0])\n",
    "\n",
    "# set model parameters\n",
    "t_first = 0.8 + 0.6j\n",
    "t_second = 2.0\n",
    "\n",
    "# leave on-site energies to default zero values\n",
    "# set hoppings (one for each connected pair of orbitals)\n",
    "# (amplitude, i, j, [lattice vector to cell containing j])\n",
    "my_model.set_hop(t_second, 0, 0, [1, 0])\n",
    "my_model.set_hop(t_second, 1, 1, [1, 0])\n",
    "my_model.set_hop(t_first, 0, 1, [0, 0])\n",
    "my_model.set_hop(t_first, 1, 0, [1, 0])\n",
    "\n",
    "# print tight-binding model\n",
    "print(my_model)\n",
    "\n",
    "# generate list of k-points following some high-symmetry line in\n",
    "(k_vec, k_dist, k_node) = my_model.k_path(\"fullc\", 100)\n",
    "k_label = [r\"$-\\pi$\", r\"$0$\", r\"$\\pi$\"]\n",
    "\n",
    "print(\"---------------------------------------\")\n",
    "print(\"starting calculation\")\n",
    "print(\"---------------------------------------\")\n",
    "print(\"Calculating bands...\")\n",
    "\n",
    "# solve for eigenenergies of hamiltonian on\n",
    "# the set of k-points from above\n",
    "evals = my_model.solve_ham(k_vec)\n",
    "\n",
    "# plotting of band structure\n",
    "print(\"Plotting bandstructure...\")\n",
    "\n",
    "# First make a figure object\n",
    "fig, ax = plt.subplots()\n",
    "# specify horizontal axis details\n",
    "ax.set_xlim(k_node[0], k_node[-1])\n",
    "ax.set_xticks(k_node)\n",
    "ax.set_xticklabels(k_label)\n",
    "ax.axvline(x=k_node[1], linewidth=0.5, color=\"k\")\n",
    "\n",
    "# plot first band\n",
    "ax.plot(k_dist, evals[:, 0])\n",
    "# plot second band\n",
    "ax.plot(k_dist, evals[:, 1])\n",
    "# put title\n",
    "ax.set_title(\"Trestle band structure\")\n",
    "ax.set_xlabel(\"Path in k-space\")\n",
    "ax.set_ylabel(\"Band energy\")\n",
    "# make an PDF figure of a plot\n",
    "fig.tight_layout()"
   ]
  }
 ],
 "metadata": {
  "language_info": {
   "name": "python"
  }
 },
 "nbformat": 4,
 "nbformat_minor": 5
}
