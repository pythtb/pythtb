{
 "cells": [
  {
   "cell_type": "markdown",
   "id": "351fd4a7",
   "metadata": {},
   "source": [
    "# Buckled Layer"
   ]
  },
  {
   "cell_type": "code",
   "execution_count": 1,
   "id": "a46a82b9",
   "metadata": {},
   "outputs": [],
   "source": [
    "from pythtb.tb_model import TBModel \n",
    "import matplotlib.pyplot as plt"
   ]
  },
  {
   "cell_type": "code",
   "execution_count": 2,
   "id": "02463f76",
   "metadata": {},
   "outputs": [],
   "source": [
    "# real space is 3D\n",
    "# define lattice vectors\n",
    "lat = [[1, 0, 0], [0, 1.25, 0], [0, 0, 3]]\n",
    "# define coordinates of orbitals\n",
    "orb = [[0, 0, -0.15], [0.5, 0.5, 0.15]]\n",
    "\n",
    "# only first two lattice vectors repeat, so k-space is 2D\n",
    "my_model = TBModel(2, 3, lat, orb)"
   ]
  },
  {
   "cell_type": "code",
   "execution_count": 3,
   "id": "9f87e2f1",
   "metadata": {},
   "outputs": [
    {
     "name": "stdout",
     "output_type": "stream",
     "text": [
      "----------------------------------------\n",
      "       Tight-binding model report       \n",
      "----------------------------------------\n",
      "r-space dimension           = 3\n",
      "k-space dimension           = 2\n",
      "number of spin components   = 1\n",
      "periodic directions         = [0, 1]\n",
      "number of orbitals          = 2\n",
      "number of electronic states = 2\n",
      "\n",
      "Lattice vectors (Cartesian):\n",
      "  # 0 ===> [ 1.000 ,    0   ,    0   ]\n",
      "  # 1 ===> [   0   ,  1.250 ,    0   ]\n",
      "  # 2 ===> [   0   ,    0   ,  3.000 ]\n",
      "Orbital vectors (dimensionless):\n",
      "  # 0 ===> [   0   ,    0   , -0.150 ]\n",
      "  # 1 ===> [ 0.500 ,  0.500 ,  0.150 ]\n",
      "Site energies:\n",
      "  # 0 ===> -1.100 \n",
      "  # 1 ===>  1.100 \n",
      "Hoppings:\n",
      "  < 1 | H | 0 + [ 0.0 ,  0.0 ,  0.0 ] >  ===> 0.6000 \n",
      "  < 1 | H | 0 + [ 1.0 ,  0.0 ,  0.0 ] >  ===> 0.6000 \n",
      "  < 1 | H | 0 + [ 0.0 ,  1.0 ,  0.0 ] >  ===> 0.6000 \n",
      "  < 1 | H | 0 + [ 1.0 ,  1.0 ,  0.0 ] >  ===> 0.6000 \n",
      "Hopping distances:\n",
      "  | pos(1) - pos(0 + [ 0.0 ,  0.0 ,  0.0 ]) | =  1.204 \n",
      "  | pos(1) - pos(0 + [ 1.0 ,  0.0 ,  0.0 ]) | =  1.204 \n",
      "  | pos(1) - pos(0 + [ 0.0 ,  1.0 ,  0.0 ]) | =  1.204 \n",
      "  | pos(1) - pos(0 + [ 1.0 ,  1.0 ,  0.0 ]) | =  1.204 \n",
      "----- k_path report -----\n",
      "Real-space lattice vectors:\n",
      " [[1.   0.   0.  ]\n",
      " [0.   1.25 0.  ]]\n",
      "K-space metric tensor:\n",
      " [[1.   0.  ]\n",
      " [0.   0.64]]\n",
      "Nodes (reduced coords):\n",
      " [[0.  0. ]\n",
      " [0.  0.5]\n",
      " [0.5 0.5]\n",
      " [0.  0. ]]\n",
      "Segments:\n",
      "  Node 0 [0. 0.] to Node 1 [0.  0.5]: distance = 0.40000\n",
      "  Node 1 [0.  0.5] to Node 2 [0.5 0.5]: distance = 0.50000\n",
      "  Node 2 [0.5 0.5] to Node 3 [0. 0.]: distance = 0.64031\n",
      "Node distances (cumulative): [0.      0.4     0.9     1.54031]\n",
      "Node indices in path: [ 0 21 47 80]\n",
      "-------------------------\n",
      "Calculating bandstructure...\n",
      "Plotting bandstructure...\n"
     ]
    },
    {
     "data": {
      "image/png": "[encoded data removed]",
      "text/plain": [
       "<Figure size 640x480 with 1 Axes>"
      ]
     },
     "metadata": {},
     "output_type": "display_data"
    }
   ],
   "source": [
    "delta = 1.1\n",
    "t = 0.6\n",
    "\n",
    "# set on-site energies\n",
    "my_model.set_onsite([-delta, delta])\n",
    "# set hoppings (one for each connected pair of orbitals)\n",
    "# (amplitude, i, j, [lattice vector to cell containing j])\n",
    "my_model.set_hop(t, 1, 0, [0, 0, 0])\n",
    "my_model.set_hop(t, 1, 0, [1, 0, 0])\n",
    "my_model.set_hop(t, 1, 0, [0, 1, 0])\n",
    "my_model.set_hop(t, 1, 0, [1, 1, 0])\n",
    "\n",
    "# print tight-binding model\n",
    "print(my_model)\n",
    "\n",
    "# ----------------------------------------\n",
    "# specify k-space path\n",
    "# ----------------------------------------\n",
    "\n",
    "# specify a path in k-space by listing a set of nodes; the path\n",
    "# will consist of straight line segments connecting these nodes\n",
    "path = [[0.0, 0.0], [0.0, 0.5], [0.5, 0.5], [0.0, 0.0]]\n",
    "\n",
    "# specify labels for these nodal points\n",
    "label = (r\"$\\Gamma $\", r\"$X$\", r\"$M$\", r\"$\\Gamma $\")\n",
    "\n",
    "# call function k_path to construct the actual path\n",
    "(k_vec, k_dist, k_node) = my_model.k_path(path, 81)\n",
    "# inputs:\n",
    "#   path: see above\n",
    "#   81: number of interpolated k-points to be plotted\n",
    "# outputs:\n",
    "#   k_vec: list of interpolated k-points\n",
    "#   k_dist: horizontal axis position of each k-point in the list\n",
    "#   k_node: horizontal axis position of each original node\n",
    "\n",
    "# ----------------------------------------\n",
    "# do bandstructure calculation\n",
    "# ----------------------------------------\n",
    "print(\"Calculating bandstructure...\")\n",
    "evals = my_model.solve_ham(k_vec)\n",
    "\n",
    "# ----------------------------------------\n",
    "# plot band structure\n",
    "# ----------------------------------------\n",
    "print(\"Plotting bandstructure...\")\n",
    "\n",
    "# Initialize plot\n",
    "fig, ax = plt.subplots()\n",
    "ax.set_title(\"Bandstructure for buckled rectangular layer\")\n",
    "ax.set_ylabel(\"Band energy\")\n",
    "\n",
    "# specify horizontal axis details\n",
    "ax.set_xlim(k_node[0], k_node[-1])\n",
    "# put tickmarks and labels at node positions\n",
    "ax.set_xticks(k_node)\n",
    "ax.set_xticklabels(label)\n",
    "# add vertical lines at node positions\n",
    "for n in range(len(k_node)):\n",
    "    ax.axvline(x=k_node[n], linewidth=0.5, color=\"k\")\n",
    "\n",
    "# Plot two bands\n",
    "ax.plot(k_dist, evals)\n",
    "# ax.plot(k_dist, evals[1])\n",
    "\n",
    "# save as PDF\n",
    "fig.tight_layout()"
   ]
  }
 ],
 "metadata": {
  "kernelspec": {
   "display_name": "pythtb",
   "language": "python",
   "name": "python3"
  },
  "language_info": {
   "codemirror_mode": {
    "name": "ipython",
    "version": 3
   },
   "file_extension": ".py",
   "mimetype": "text/x-python",
   "name": "python",
   "nbconvert_exporter": "python",
   "pygments_lexer": "ipython3",
   "version": "3.11.11"
  }
 },
 "nbformat": 4,
 "nbformat_minor": 5
}
