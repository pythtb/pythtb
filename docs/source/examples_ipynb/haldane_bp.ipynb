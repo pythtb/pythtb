{
 "cells": [
  {
   "cell_type": "markdown",
   "id": "a1f4e471",
   "metadata": {},
   "source": [
    "(haldane-bp-nb)=\n",
    "# Haldane model Berry phases and curvatures"
   ]
  },
  {
   "cell_type": "code",
   "execution_count": 1,
   "id": "182748e6",
   "metadata": {},
   "outputs": [],
   "source": [
    "from pythtb import TBModel, WFArray, Mesh\n",
    "import numpy as np\n",
    "import matplotlib.pyplot as plt"
   ]
  },
  {
   "cell_type": "code",
   "execution_count": 2,
   "id": "84c0cf54",
   "metadata": {},
   "outputs": [
    {
     "name": "stdout",
     "output_type": "stream",
     "text": [
      "----------------------------------------\n",
      "       Tight-binding model report       \n",
      "----------------------------------------\n",
      "r-space dimension           = 2\n",
      "k-space dimension           = 2\n",
      "number of spin components   = 1\n",
      "periodic directions         = [0, 1]\n",
      "number of orbitals          = 2\n",
      "number of electronic states = 2\n",
      "\n",
      "Lattice vectors (Cartesian):\n",
      "  # 0 ===> [ 1.000 ,    0   ]\n",
      "  # 1 ===> [ 0.500 ,  0.866 ]\n",
      "Orbital vectors (dimensionless):\n",
      "  # 0 ===> [ 0.333 ,  0.333 ]\n",
      "  # 1 ===> [ 0.667 ,  0.667 ]\n",
      "Site energies:\n",
      "  # 0 ===>  0.000 \n",
      "  # 1 ===>  0.000 \n",
      "Hoppings:\n",
      "  < 0 | H | 1 + [ 0.0 ,  0.0 ] >  ===> -1.0000\n",
      "  < 1 | H | 0 + [ 1.0 ,  0.0 ] >  ===> -1.0000\n",
      "  < 1 | H | 0 + [ 0.0 ,  1.0 ] >  ===> -1.0000\n",
      "  < 0 | H | 0 + [ 1.0 ,  0.0 ] >  ===> 0.0000+0.1500j\n",
      "  < 1 | H | 1 + [ 1.0 , -1.0 ] >  ===> 0.0000+0.1500j\n",
      "  < 1 | H | 1 + [ 0.0 ,  1.0 ] >  ===> 0.0000+0.1500j\n",
      "  < 1 | H | 1 + [ 1.0 ,  0.0 ] >  ===> 0.0000-0.1500j\n",
      "  < 0 | H | 0 + [ 1.0 , -1.0 ] >  ===> 0.0000-0.1500j\n",
      "  < 0 | H | 0 + [ 0.0 ,  1.0 ] >  ===> 0.0000-0.1500j\n",
      "Hopping distances:\n",
      "  | pos(0) - pos(1 + [ 0.0 ,  0.0 ]) | =  0.577 \n",
      "  | pos(1) - pos(0 + [ 1.0 ,  0.0 ]) | =  0.577 \n",
      "  | pos(1) - pos(0 + [ 0.0 ,  1.0 ]) | =  0.577 \n",
      "  | pos(0) - pos(0 + [ 1.0 ,  0.0 ]) | =  1.000 \n",
      "  | pos(1) - pos(1 + [ 1.0 , -1.0 ]) | =  1.000 \n",
      "  | pos(1) - pos(1 + [ 0.0 ,  1.0 ]) | =  1.000 \n",
      "  | pos(1) - pos(1 + [ 1.0 ,  0.0 ]) | =  1.000 \n",
      "  | pos(0) - pos(0 + [ 1.0 , -1.0 ]) | =  1.000 \n",
      "  | pos(0) - pos(0 + [ 0.0 ,  1.0 ]) | =  1.000 \n"
     ]
    }
   ],
   "source": [
    "# define lattice vectors\n",
    "lat = [[1, 0], [1/2, np.sqrt(3)/2]]\n",
    "# define coordinates of orbitals\n",
    "orb = [[1/3, 1/3], [2/3, 2/3]]\n",
    "\n",
    "# make two dimensional tight-binding Haldane model\n",
    "my_model = TBModel(2, 2, lat, orb)\n",
    "\n",
    "# set model parameters\n",
    "delta = 0\n",
    "t = -1\n",
    "t2 = 0.15 * np.exp(1j*np.pi/2)\n",
    "t2c = t2.conjugate()\n",
    "\n",
    "# set on-site energies\n",
    "my_model.set_onsite([-delta, delta])\n",
    "# set hoppings (one for each connected pair of orbitals)\n",
    "# (amplitude, i, j, [lattice vector to cell containing j])\n",
    "my_model.set_hop(t, 0, 1, [0, 0])\n",
    "my_model.set_hop(t, 1, 0, [1, 0])\n",
    "my_model.set_hop(t, 1, 0, [0, 1])\n",
    "# add second neighbour complex hoppings\n",
    "my_model.set_hop(t2, 0, 0, [1, 0])\n",
    "my_model.set_hop(t2, 1, 1, [1, -1])\n",
    "my_model.set_hop(t2, 1, 1, [0, 1])\n",
    "my_model.set_hop(t2c, 1, 1, [1, 0])\n",
    "my_model.set_hop(t2c, 0, 0, [1, -1])\n",
    "my_model.set_hop(t2c, 0, 0, [0, 1])\n",
    "\n",
    "print(my_model)"
   ]
  },
  {
   "cell_type": "markdown",
   "id": "a23639cd",
   "metadata": {},
   "source": [
    "## Using `WFArray`\n",
    "\n",
    "Generate object of type `WFArray` that will be used for Berry phase and curvature calculations"
   ]
  },
  {
   "cell_type": "code",
   "execution_count": 3,
   "id": "86531251",
   "metadata": {},
   "outputs": [],
   "source": [
    "mesh = Mesh(dim_k=2, dim_param=0, axis_types=['k', 'k'])\n",
    "mesh.build_full_grid(shape=(31, 31), gamma_centered=True)"
   ]
  },
  {
   "cell_type": "code",
   "execution_count": 5,
   "id": "52f4373f",
   "metadata": {},
   "outputs": [
    {
     "name": "stdout",
     "output_type": "stream",
     "text": [
      "Auto-imposing PBC in mesh direction 0 for k-component 0\n",
      "Auto-imposing PBC in mesh direction 1 for k-component 1\n"
     ]
    }
   ],
   "source": [
    "wf_array_1 = WFArray(my_model, mesh)\n",
    "wf_array_1.solve_mesh()"
   ]
  },
  {
   "cell_type": "markdown",
   "id": "8784e115",
   "metadata": {},
   "source": [
    "Calculate Berry phases around the BZ in the $k_x$ direction (which can be interpreted as the 1D hybrid Wannier center in the $x$ direction) and plot results as a function of $k_y$."
   ]
  },
  {
   "cell_type": "code",
   "execution_count": 6,
   "id": "3e85408b",
   "metadata": {},
   "outputs": [],
   "source": [
    "# Berry phases along k_x for lower band\n",
    "phi_0 = wf_array_1.berry_phase([0], 0, contin=True)\n",
    "# Berry phases along k_x for upper band\n",
    "phi_1 = wf_array_1.berry_phase([1], 0, contin=True)\n",
    "# Berry phases along k_x for both bands\n",
    "phi_both = wf_array_1.berry_phase([0, 1], 0, contin=True)"
   ]
  },
  {
   "cell_type": "markdown",
   "id": "6d87f937",
   "metadata": {},
   "source": [
    "These results indicate that the two bands have equal and opposite Chern numbers."
   ]
  },
  {
   "cell_type": "code",
   "execution_count": 7,
   "id": "31109795",
   "metadata": {},
   "outputs": [
    {
     "data": {
      "text/plain": [
       "[Text(0, -6.283185307179586, '$-2\\\\pi$'),\n",
       " Text(0, -3.141592653589793, '$-\\\\pi$'),\n",
       " Text(0, 0.0, '$0$'),\n",
       " Text(0, 3.141592653589793, '$\\\\pi$'),\n",
       " Text(0, 6.283185307179586, '$2\\\\pi$')]"
      ]
     },
     "execution_count": 7,
     "metadata": {},
     "output_type": "execute_result"
    },
    {
     "data": {
      "image/png": "[encoded data removed]",
      "text/plain": [
       "<Figure size 640x480 with 1 Axes>"
      ]
     },
     "metadata": {},
     "output_type": "display_data"
    }
   ],
   "source": [
    "# plot Berry phases\n",
    "fig, ax = plt.subplots()\n",
    "ky = np.linspace(0, 1, len(phi_1))\n",
    "ax.plot(ky, phi_0, \"ro\", label=\"Lower band\")\n",
    "ax.plot(ky, phi_1, \"go\", label=\"Upper band\")\n",
    "ax.plot(ky, phi_both, \"bo\", label=\"Both bands\")\n",
    "\n",
    "ax.legend()\n",
    "ax.set_xlabel(r\"$k_y$\")\n",
    "ax.set_ylabel(r\"Berry phase along $k_x$\")\n",
    "ax.set_xlim(0.0, 1.0)\n",
    "ax.set_ylim(-7.0, 7.0)\n",
    "ax.yaxis.set_ticks([-2.0 * np.pi, -np.pi, 0.0, np.pi, 2.0 * np.pi])\n",
    "ax.set_yticklabels((r\"$-2\\pi$\", r\"$-\\pi$\", r\"$0$\", r\"$\\pi$\", r\"$2\\pi$\"))"
   ]
  },
  {
   "cell_type": "markdown",
   "id": "46d07f24",
   "metadata": {},
   "source": [
    "Verify with calculation of Chern numbers"
   ]
  },
  {
   "cell_type": "code",
   "execution_count": 8,
   "id": "b1254524",
   "metadata": {},
   "outputs": [
    {
     "name": "stdout",
     "output_type": "stream",
     "text": [
      "Chern number for lower band =  -1.0\n",
      "Chern number for upper band =  1.0\n"
     ]
    }
   ],
   "source": [
    "chern0 = wf_array_1.chern_num(state_idx=[0], plane=(0,1))\n",
    "chern1 = wf_array_1.chern_num(state_idx=[1], plane=(0,1))\n",
    "\n",
    "print(\"Chern number for lower band = \", chern0)\n",
    "print(\"Chern number for upper band = \", chern1)"
   ]
  }
 ],
 "metadata": {
  "kernelspec": {
   "display_name": "pythtb",
   "language": "python",
   "name": "python3"
  },
  "language_info": {
   "codemirror_mode": {
    "name": "ipython",
    "version": 3
   },
   "file_extension": ".py",
   "mimetype": "text/x-python",
   "name": "python",
   "nbconvert_exporter": "python",
   "pygments_lexer": "ipython3",
   "version": "3.11.11"
  }
 },
 "nbformat": 4,
 "nbformat_minor": 5
}
