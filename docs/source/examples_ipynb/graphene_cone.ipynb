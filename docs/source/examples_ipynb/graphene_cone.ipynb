{
 "cells": [
  {
   "cell_type": "markdown",
   "id": "ba98800e",
   "metadata": {},
   "source": [
    "(cone-nb)=\n",
    "# Berry phase around graphene's Dirac cone\n",
    "\n",
    "This example computes Berry phases for a circular path (in reduced\n",
    "coordinates) around the Dirac point of the graphene band structure. In\n",
    "order to have a well defined sign of the Berry phase, a small on-site\n",
    "staggered potential is added to open a gap at the Dirac point.\n",
    "\n",
    "After computing the Berry phase around the circular loop, it also computes\n",
    "the integral of the Berry curvature over a small square patch in the\n",
    "Brillouin zone containing the Dirac point, and plots individual phases\n",
    "for each plaquette in the array."
   ]
  },
  {
   "cell_type": "code",
   "execution_count": 1,
   "id": "9fa85738",
   "metadata": {},
   "outputs": [],
   "source": [
    "from pythtb import TBModel, WFArray, Mesh\n",
    "import numpy as np\n",
    "import matplotlib.pyplot as plt"
   ]
  },
  {
   "cell_type": "markdown",
   "id": "3b9e56b0",
   "metadata": {},
   "source": [
    "First we build the tight-binding model for graphene with a staggered onsite potential."
   ]
  },
  {
   "cell_type": "code",
   "execution_count": 2,
   "id": "ad391556",
   "metadata": {},
   "outputs": [
    {
     "name": "stdout",
     "output_type": "stream",
     "text": [
      "----------------------------------------\n",
      "       Tight-binding model report       \n",
      "----------------------------------------\n",
      "r-space dimension           = 2\n",
      "k-space dimension           = 2\n",
      "number of spin components   = 1\n",
      "periodic directions         = [0, 1]\n",
      "number of orbitals          = 2\n",
      "number of electronic states = 2\n",
      "\n",
      "Lattice vectors (Cartesian):\n",
      "  # 0 ===> [ 1.000 ,    0   ]\n",
      "  # 1 ===> [ 0.500 ,  0.866 ]\n",
      "Orbital vectors (dimensionless):\n",
      "  # 0 ===> [ 0.333 ,  0.333 ]\n",
      "  # 1 ===> [ 0.667 ,  0.667 ]\n",
      "Site energies:\n",
      "  # 0 ===>  0.100 \n",
      "  # 1 ===> -0.100 \n",
      "Hoppings:\n",
      "  < 0 | H | 1 + [ 0.0 ,  0.0 ] >  ===> -1.0000\n",
      "  < 1 | H | 0 + [ 1.0 ,  0.0 ] >  ===> -1.0000\n",
      "  < 1 | H | 0 + [ 0.0 ,  1.0 ] >  ===> -1.0000\n",
      "Hopping distances:\n",
      "  | pos(0) - pos(1 + [ 0.0 ,  0.0 ]) | =  0.577 \n",
      "  | pos(1) - pos(0 + [ 1.0 ,  0.0 ]) | =  0.577 \n",
      "  | pos(1) - pos(0 + [ 0.0 ,  1.0 ]) | =  0.577 \n"
     ]
    }
   ],
   "source": [
    "# define lattice vectors\n",
    "lat = [[1, 0], [1/2, np.sqrt(3)/2]]\n",
    "# define coordinates of orbitals\n",
    "orb = [[1/3, 1/3], [2/3, 2/3]]\n",
    "\n",
    "# make two dimensional tight-binding graphene model\n",
    "my_model = TBModel(2, 2, lat, orb)\n",
    "\n",
    "# set model parameters\n",
    "delta = -0.1  # small staggered onsite term\n",
    "t = -1.0\n",
    "\n",
    "# set on-site energies\n",
    "my_model.set_onsite([-delta, delta])\n",
    "# set hoppings (amplitude, i, j, [lattice vector to cell containing j])\n",
    "my_model.set_hop(t, 0, 1, [0, 0])\n",
    "my_model.set_hop(t, 1, 0, [1, 0])\n",
    "my_model.set_hop(t, 1, 0, [0, 1])\n",
    "\n",
    "print(my_model)"
   ]
  },
  {
   "cell_type": "markdown",
   "id": "a38601fa",
   "metadata": {},
   "source": [
    "## Circular path around Dirac cone\n",
    "\n",
    "First we will construct the circular path of k-points around the Dirac cone."
   ]
  },
  {
   "cell_type": "code",
   "execution_count": 3,
   "id": "e1eb3d3d",
   "metadata": {},
   "outputs": [],
   "source": [
    "circ_step = 31 # number of steps in the circular path\n",
    "circ_center = np.array([1/3, 2/3]) # the K point\n",
    "circ_radius = 0.1 # the radius of the circular path\n",
    "\n",
    "# construct k-point coordinate on the path\n",
    "kpts = []\n",
    "for i in range(circ_step):\n",
    "    ang = 2*np.pi * i / (circ_step - 1)\n",
    "    kpt = np.array([np.cos(ang) * circ_radius, np.sin(ang) * circ_radius])\n",
    "    kpt += circ_center\n",
    "    kpts.append(kpt)"
   ]
  },
  {
   "cell_type": "markdown",
   "id": "f5473758",
   "metadata": {},
   "source": [
    "### `Mesh` class\n",
    "We will now utilize the `Mesh` class to store the k-point mesh along the path. We pass the `TBModel` object as the argument.\n",
    "\n",
    "In this case, we have a one-dimensional k-point path in a two-dimensional Brillouin zone, so we use the `build_path` method to create the path. We pass the `path_k` variable, which is a list of the nodes in the path that the k-points will be interpolated between. In our example, the nodes are the points themselves, so we use `n_interp=1` which specifies the number of points between the nodes. This will just store the list of `circ_step` k-points we have already constructed. \n",
    "\n",
    ":::{tip}\n",
    "`n_interp` is an optional parameter that specifies the number of interpolation points between each pair of nodes in the path. By default, it is set to 1. This default behavior means that the k-point path will consist only of the nodes specified in `path_k`, without any additional points in between. If you want to create a denser k-point path with more points between the nodes, you can increase the value of `n_interp`.\n",
    ":::"
   ]
  },
  {
   "cell_type": "code",
   "execution_count": 4,
   "id": "31945525",
   "metadata": {},
   "outputs": [
    {
     "name": "stdout",
     "output_type": "stream",
     "text": [
      "Mesh Summary\n",
      "========================================\n",
      "Type: path\n",
      "Dimensionality: 2 k-dim(s) + 0 λ-dim(s)\n",
      "Number of mesh points: 31\n",
      "Full shape: (31, 2)\n",
      "k-shape: (31)\n",
      "λ-shape: ()\n",
      "k-axes: [0]\n",
      "λ-axes: []\n",
      "Axis names: [k_0]\n",
      "Endpoints included on axis: [◦]   (• yes, ◦ no/unknown)\n",
      "Periodic axes: None\n",
      "Closed axes: None\n"
     ]
    }
   ],
   "source": [
    "mesh = Mesh(dim_k=2, axis_types=['k'])\n",
    "mesh.build_path(nodes=kpts, n_interp=1)\n",
    "print(mesh)"
   ]
  },
  {
   "cell_type": "markdown",
   "id": "4f8fd28c",
   "metadata": {},
   "source": [
    "### `WFArray` class\n",
    "\n",
    "We now construct a `WFArray` object to hold the wavefunction data for each k-point in the mesh. The `WFArray` class is designed to work seamlessly with the `Mesh` class, allowing us to easily associate wavefunction data with the specific k-points (or parameter points) stored in the `Mesh`. "
   ]
  },
  {
   "cell_type": "code",
   "execution_count": 5,
   "id": "65b554d8",
   "metadata": {},
   "outputs": [],
   "source": [
    "w_circ = WFArray(my_model, mesh)"
   ]
  },
  {
   "cell_type": "markdown",
   "id": "9e2bc76d",
   "metadata": {},
   "source": [
    "To populate the `WFArray` object with wavefunction data, we can use the `solve_mesh()` method, which computes the wavefunctions for each k-point in the mesh."
   ]
  },
  {
   "cell_type": "code",
   "execution_count": 6,
   "id": "9fea576e",
   "metadata": {},
   "outputs": [],
   "source": [
    "w_circ.solve_mesh()"
   ]
  },
  {
   "cell_type": "markdown",
   "id": "487363db",
   "metadata": {},
   "source": [
    "### Berry phase\n",
    "We can compute the Berry phase along the circular path using the `berry_phase` method of the `WFArray` object. This method takes a list of band indices as input and returns the Berry phase for those bands."
   ]
  },
  {
   "cell_type": "code",
   "execution_count": 7,
   "id": "663e285a",
   "metadata": {},
   "outputs": [
    {
     "name": "stdout",
     "output_type": "stream",
     "text": [
      "Berry phase along circle with radius 0.1 and centered at k-point [0.33333333 0.66666667]\n",
      "for band 0 equals    : 2.5636831499496724\n",
      "for band 1 equals    : -2.563683149949673\n",
      "for both bands equals: 2.197421215525081e-16\n"
     ]
    }
   ],
   "source": [
    "berry_phase_0 = w_circ.berry_phase(0, [0])\n",
    "berry_phase_1 = w_circ.berry_phase(0, [1])\n",
    "berry_phase_both = w_circ.berry_phase(0, [0, 1])\n",
    "\n",
    "print(f\"Berry phase along circle with radius {circ_radius} and centered at k-point {circ_center}\")\n",
    "print(f\"for band 0 equals    : {berry_phase_0}\")\n",
    "print(f\"for band 1 equals    : {berry_phase_1}\")\n",
    "print(f\"for both bands equals: {berry_phase_both}\")"
   ]
  },
  {
   "cell_type": "markdown",
   "id": "fa562d0c",
   "metadata": {},
   "source": [
    "## Square patch around Dirac cone\n",
    "\n",
    "Next, we construct a two-dimensional square patch covering the Dirac cone. We will construct the side length of the square patch such that the area of the patch equals the area enclosed by the loop around the Dirac point with radius `circ_radius` constructed above (`square_length` = $\\sqrt{\\pi \\texttt{circ\\_radius}^2}$)"
   ]
  },
  {
   "cell_type": "code",
   "execution_count": 8,
   "id": "8489a5cb",
   "metadata": {},
   "outputs": [],
   "source": [
    "square_step = 50\n",
    "square_center = np.array([1/3, 2/3])\n",
    "square_length = np.sqrt(np.pi * circ_radius**2)\n",
    "\n",
    "all_kpt = np.zeros((square_step, square_step, 2))\n",
    "for i in range(square_step):\n",
    "    for j in range(square_step):\n",
    "        kpt = np.array(\n",
    "            [\n",
    "                square_length * (-0.5 + i / (square_step - 1)),\n",
    "                square_length * (-0.5 + j / (square_step - 1)),\n",
    "            ]\n",
    "        )\n",
    "        kpt += square_center\n",
    "        all_kpt[i, j, :] = kpt"
   ]
  },
  {
   "cell_type": "markdown",
   "id": "3599aed6",
   "metadata": {},
   "source": [
    "### `Mesh` class\n",
    "\n",
    ":::{versionadded} 2.0.0\n",
    ":::\n",
    "\n",
    "Again, we add the k-points into the `Mesh` object, but this time by calling the `build_grid` method. In circumstances where we have a regular grid of k-points, this method is particularly useful as it can automatically generate the necessary k-point coordinates based on the specified grid parameters. We can also specify the grid directly by passing the `points` parameter. \n",
    "\n",
    ":::{warning}\n",
    "The `points` array must have a shape that corresponds to `shape_k`. For example, if `shape_k` is `(4, 4)`, then `points` should have the shape `(4, 4, 2)` to represent the k-point coordinates in 2D.\n",
    ":::"
   ]
  },
  {
   "cell_type": "code",
   "execution_count": 9,
   "id": "d4bd99ec",
   "metadata": {},
   "outputs": [
    {
     "name": "stdout",
     "output_type": "stream",
     "text": [
      "Mesh Summary\n",
      "========================================\n",
      "Type: grid\n",
      "Dimensionality: 2 k-dim(s) + 0 λ-dim(s)\n",
      "Number of mesh points: 2500\n",
      "Full shape: (50, 50, 2)\n",
      "k-shape: (50, 50)\n",
      "λ-shape: ()\n",
      "k-axes: [0, 1]\n",
      "λ-axes: []\n",
      "Axis names: [k_0, k_1]\n",
      "Endpoints included on axis: [◦, ◦]   (• yes, ◦ no/unknown)\n",
      "Is a torus in k-space (all k-axes wrap): no\n",
      "Periodic axes: None\n",
      "Closed axes: None\n"
     ]
    }
   ],
   "source": [
    "mesh = Mesh(dim_k=2, axis_types=['k', 'k'])\n",
    "mesh.build_custom(points=all_kpt)\n",
    "print(mesh) "
   ]
  },
  {
   "cell_type": "markdown",
   "id": "05623aae",
   "metadata": {},
   "source": [
    "### `WFArray` class\n",
    "Now we do the same thing as before to solve the model on these k-points, by calling `solve_k_mesh` on the `WFArray` object."
   ]
  },
  {
   "cell_type": "code",
   "execution_count": 10,
   "id": "2fe110d8",
   "metadata": {},
   "outputs": [],
   "source": [
    "w_square = WFArray(my_model, mesh)\n",
    "w_square.solve_mesh()"
   ]
  },
  {
   "cell_type": "markdown",
   "id": "3ecadde7",
   "metadata": {},
   "source": [
    "### Berry flux\n",
    "\n",
    "Next, we can compute the Berry flux on this square grid of k-points by calling `WFArray.berry_flux`. We pass as arguments the band indices and optionally can specify the plane on which the Berry flux should be computed. \n",
    "\n",
    ":::{note}\n",
    "In our case, we have only one plane since the system is two-dimensional and we are interested in the Berry flux in the kx-ky plane.\n",
    "However, if `plane` is unspecified, the Berry flux will be computed for all available planes, and will be returned with an additional set of two axes corresponding to each dimension in parameter space. Since the Berry flux is an anti-symmetric tensor, the `[0,1]` and `[1,0]` components will be related by a minus sign. So here, we specify the plane so the returned object just gets the upper left (`[0,1]`) component.\n",
    ":::"
   ]
  },
  {
   "cell_type": "code",
   "execution_count": 11,
   "id": "12d464e0",
   "metadata": {},
   "outputs": [
    {
     "name": "stdout",
     "output_type": "stream",
     "text": [
      "Berry flux on square patch with length: 0.1772453850905516 and centered at k-point: [0.33333333 0.66666667]\n",
      "for band 0 equals    :  2.566799155062844\n",
      "for band 1 equals    :  -2.566799155062845\n",
      "for both bands equals:  -1.444739029166154e-15\n"
     ]
    }
   ],
   "source": [
    "b_flux_0 = w_square.berry_flux([0], plane=(0, 1))\n",
    "b_flux_1 = w_square.berry_flux([1], plane=(0, 1))\n",
    "b_flux_both = w_square.berry_flux([0, 1], plane=(0, 1))\n",
    "\n",
    "print(f\"Berry flux on square patch with length: {square_length} and centered at k-point: {square_center}\")\n",
    "print(\"for band 0 equals    : \", np.sum(b_flux_0))\n",
    "print(\"for band 1 equals    : \", np.sum(b_flux_1))\n",
    "print(\"for both bands equals: \", np.sum(b_flux_both))"
   ]
  },
  {
   "cell_type": "markdown",
   "id": "3b256b99",
   "metadata": {},
   "source": [
    "Let's plot the Berry curvature distribution in the kx-ky plane. "
   ]
  },
  {
   "cell_type": "code",
   "execution_count": 12,
   "id": "343d4577",
   "metadata": {},
   "outputs": [
    {
     "data": {
      "image/png": "[encoded data removed]",
      "text/plain": [
       "<Figure size 640x480 with 2 Axes>"
      ]
     },
     "metadata": {},
     "output_type": "display_data"
    }
   ],
   "source": [
    "fig, ax = plt.subplots()\n",
    "img = ax.imshow(\n",
    "    b_flux_0.T.real,\n",
    "    origin=\"lower\",\n",
    "    extent=(\n",
    "        all_kpt[0, 0, 0],\n",
    "        all_kpt[-2, 0, 0],\n",
    "        all_kpt[0, 0, 1],\n",
    "        all_kpt[0, -2, 1],\n",
    "    ),\n",
    ")\n",
    "ax.set_title(\"Berry curvature of lower band near Dirac cone\")\n",
    "ax.set_xlabel(r\"$k_1$\")\n",
    "ax.set_ylabel(r\"$k_2$\")\n",
    "plt.colorbar(img)\n",
    "fig.tight_layout()"
   ]
  }
 ],
 "metadata": {
  "kernelspec": {
   "display_name": "pythtb-dev",
   "language": "python",
   "name": "python3"
  },
  "language_info": {
   "codemirror_mode": {
    "name": "ipython",
    "version": 3
   },
   "file_extension": ".py",
   "mimetype": "text/x-python",
   "name": "python",
   "nbconvert_exporter": "python",
   "pygments_lexer": "ipython3",
   "version": "3.12.11"
  }
 },
 "nbformat": 4,
 "nbformat_minor": 5
}
