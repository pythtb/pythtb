{
 "cells": [
  {
   "cell_type": "markdown",
   "id": "ceb3a3c9",
   "metadata": {},
   "source": [
    "(checkerboard-nb)=\n",
    "# Checkerboard tight-binding model\n",
    "\n",
    "This example shows how to define a simple two-dimensional checkerboard\n",
    "tight-binding model with first neighbour hopping only."
   ]
  },
  {
   "cell_type": "code",
   "execution_count": 1,
   "id": "779fc1ed",
   "metadata": {},
   "outputs": [],
   "source": [
    "from pythtb.tb_model import TBModel\n",
    "import matplotlib.pyplot as plt"
   ]
  },
  {
   "cell_type": "code",
   "execution_count": 3,
   "id": "0c1ad800",
   "metadata": {},
   "outputs": [
    {
     "name": "stdout",
     "output_type": "stream",
     "text": [
      "----------------------------------------\n",
      "       Tight-binding model report       \n",
      "----------------------------------------\n",
      "r-space dimension           = 2\n",
      "k-space dimension           = 2\n",
      "number of spin components   = 1\n",
      "periodic directions         = [0, 1]\n",
      "number of orbitals          = 2\n",
      "number of electronic states = 2\n",
      "\n",
      "Lattice vectors (Cartesian):\n",
      "  # 0 ===> [ 1.000 ,    0   ]\n",
      "  # 1 ===> [   0   ,  1.000 ]\n",
      "Orbital vectors (dimensionless):\n",
      "  # 0 ===> [   0   ,    0   ]\n",
      "  # 1 ===> [ 0.500 ,  0.500 ]\n",
      "Site energies:\n",
      "  # 0 ===> -1.100 \n",
      "  # 1 ===>  1.100 \n",
      "Hoppings:\n",
      "  < 1 | H | 0 + [ 0.0 ,  0.0 ] >  ===> 0.6000 \n",
      "  < 1 | H | 0 + [ 1.0 ,  0.0 ] >  ===> 0.6000 \n",
      "  < 1 | H | 0 + [ 0.0 ,  1.0 ] >  ===> 0.6000 \n",
      "  < 1 | H | 0 + [ 1.0 ,  1.0 ] >  ===> 0.6000 \n",
      "Hopping distances:\n",
      "  | pos(1) - pos(0 + [ 0.0 ,  0.0 ]) | =  0.707 \n",
      "  | pos(1) - pos(0 + [ 1.0 ,  0.0 ]) | =  0.707 \n",
      "  | pos(1) - pos(0 + [ 0.0 ,  1.0 ]) | =  0.707 \n",
      "  | pos(1) - pos(0 + [ 1.0 ,  1.0 ]) | =  0.707 \n"
     ]
    }
   ],
   "source": [
    "# define lattice vectors\n",
    "lat = [[1.0, 0.0], [0.0, 1.0]]\n",
    "# define coordinates of orbitals\n",
    "orb = [[0.0, 0.0], [0.5, 0.5]]\n",
    "\n",
    "# make two dimensional tight-binding checkerboard model\n",
    "my_model = TBModel(2, 2, lat, orb)\n",
    "\n",
    "# set model parameters\n",
    "delta = 1.1\n",
    "t = 0.6\n",
    "\n",
    "# set on-site energies\n",
    "my_model.set_onsite([-delta, delta])\n",
    "# set hoppings (one for each connected pair of orbitals)\n",
    "# (amplitude, i, j, [lattice vector to cell containing j])\n",
    "my_model.set_hop(t, 1, 0, [0, 0])\n",
    "my_model.set_hop(t, 1, 0, [1, 0])\n",
    "my_model.set_hop(t, 1, 0, [0, 1])\n",
    "my_model.set_hop(t, 1, 0, [1, 1])\n",
    "\n",
    "print(my_model)"
   ]
  },
  {
   "cell_type": "markdown",
   "id": "6070f6b6",
   "metadata": {},
   "source": [
    "## Band structure calculation\n",
    "\n",
    "We will now calculate the band structure of the checkerboard model by solving the tight-binding Hamiltonian on a grid of k-points in the Brillouin zone."
   ]
  },
  {
   "cell_type": "code",
   "execution_count": 4,
   "id": "672635f7",
   "metadata": {},
   "outputs": [
    {
     "name": "stdout",
     "output_type": "stream",
     "text": [
      "----- k_path report -----\n",
      "Real-space lattice vectors:\n",
      " [[1. 0.]\n",
      " [0. 1.]]\n",
      "K-space metric tensor:\n",
      " [[1. 0.]\n",
      " [0. 1.]]\n",
      "Nodes (reduced coords):\n",
      " [[0.  0. ]\n",
      " [0.  0.5]\n",
      " [0.5 0.5]\n",
      " [0.  0. ]]\n",
      "Reciprocal-space vectors:\n",
      " [[1. 0.]\n",
      " [0. 1.]]\n",
      "Nodes (Cartesian coords):\n",
      " [[0.  0. ]\n",
      " [0.  0.5]\n",
      " [0.5 0.5]\n",
      " [0.  0. ]]\n",
      "Segments:\n",
      "  Node 0 [0. 0.] to Node 1 [0.  0.5]: distance = 0.50000\n",
      "  Node 1 [0.  0.5] to Node 2 [0.5 0.5]: distance = 0.50000\n",
      "  Node 2 [0.5 0.5] to Node 3 [0. 0.]: distance = 0.70711\n",
      "Node distances (cumulative): [0.      0.5     1.      1.70711]\n",
      "Node indices in path: [  0  88 176 300]\n",
      "-------------------------\n"
     ]
    }
   ],
   "source": [
    "path = [[0.0, 0.0], [0.0, 0.5], [0.5, 0.5], [0.0, 0.0]]\n",
    "label = (r\"$\\Gamma $\", r\"$X$\", r\"$M$\", r\"$\\Gamma $\")\n",
    "(k_vec, k_dist, k_node) = my_model.k_path(path, 301)"
   ]
  },
  {
   "cell_type": "markdown",
   "id": "834a07b9",
   "metadata": {},
   "source": [
    "Now solve for eigenenergies of the Hamiltonian on the set of k-points from above"
   ]
  },
  {
   "cell_type": "code",
   "execution_count": 5,
   "id": "51a71e95",
   "metadata": {},
   "outputs": [],
   "source": [
    "evals = my_model.solve_ham(k_vec)"
   ]
  },
  {
   "cell_type": "markdown",
   "id": "9c8ef04c",
   "metadata": {},
   "source": [
    "Plot the band structure\n",
    "\n",
    ":::{tip}\n",
    "You can use the [TBModel.plot_band_structure](#pythtb.TBModel.plot_band_structure) method to visualize the band structure to avoid re-implementing the matplotlib code. This method takes the k-point mesh as an argument and produces a plot of the energy bands.\n",
    ":::"
   ]
  },
  {
   "cell_type": "code",
   "execution_count": 6,
   "id": "056156f5",
   "metadata": {},
   "outputs": [
    {
     "data": {
      "text/plain": [
       "Text(0, 0.5, 'Band energy')"
      ]
     },
     "execution_count": 6,
     "metadata": {},
     "output_type": "execute_result"
    },
    {
     "data": {
      "image/png": "[encoded data removed]",
      "text/plain": [
       "<Figure size 640x480 with 1 Axes>"
      ]
     },
     "metadata": {},
     "output_type": "display_data"
    }
   ],
   "source": [
    "fig, ax = plt.subplots()\n",
    "\n",
    "ax.set_xlim(k_node[0], k_node[-1])\n",
    "ax.set_xticks(k_node)\n",
    "ax.set_xticklabels(label)\n",
    "for n in range(len(k_node)):\n",
    "    ax.axvline(x=k_node[n], linewidth=0.5, color=\"k\")\n",
    "\n",
    "ax.plot(k_dist, evals)\n",
    "\n",
    "ax.set_title(\"Checkerboard band structure\")\n",
    "ax.set_xlabel(\"Path in k-space\")\n",
    "ax.set_ylabel(\"Band energy\")"
   ]
  }
 ],
 "metadata": {
  "kernelspec": {
   "display_name": "pythtb",
   "language": "python",
   "name": "python3"
  },
  "language_info": {
   "codemirror_mode": {
    "name": "ipython",
    "version": 3
   },
   "file_extension": ".py",
   "mimetype": "text/x-python",
   "name": "python",
   "nbconvert_exporter": "python",
   "pygments_lexer": "ipython3",
   "version": "3.11.11"
  }
 },
 "nbformat": 4,
 "nbformat_minor": 5
}
