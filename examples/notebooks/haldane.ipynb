{
 "cells": [
  {
   "cell_type": "markdown",
   "id": "6d787361",
   "metadata": {},
   "source": [
    "(haldane-nb)=\n",
    "# Haldane model\n",
    "\n",
    "The Haldane model is a two-dimensional tight-binding model that exhibits topological properties. It is defined on a honeycomb lattice and includes complex next-nearest neighbor hopping terms. The model is characterized by a non-zero Chern number, which gives rise to the quantum Hall effect.\n",
    "\n",
    "Here we will visualize the band structure and density of states of the Haldane model using the `pythtb` library."
   ]
  },
  {
   "cell_type": "code",
   "execution_count": 8,
   "id": "5eedaeea",
   "metadata": {},
   "outputs": [],
   "source": [
    "from pythtb import TBModel, Mesh \n",
    "import numpy as np\n",
    "import matplotlib.pyplot as plt"
   ]
  },
  {
   "cell_type": "markdown",
   "id": "632b7e93",
   "metadata": {},
   "source": [
    "We start by defining the lattice vectors and orbital positions for the Haldane model. The orbital positions are given in reduced coordinates, this means if we specify an orbital vector by the list `[1/3, 1/3]`, the corresponding real-space position is obtained by multiplying the reduced coordinates by the lattice vectors:\n",
    "\n",
    "$$\n",
    "\\mathbf{\\tau} = \\frac{1}{3} \\mathbf{a}_{1} + \\frac{1}{3} \\mathbf{a}_{2}\n",
    "$$\n",
    "\n",
    "where $\\mathbf{a}_{i}$ are the lattice vectors."
   ]
  },
  {
   "cell_type": "code",
   "execution_count": 2,
   "id": "7ea9d14d",
   "metadata": {},
   "outputs": [],
   "source": [
    "# define lattice vectors\n",
    "lat = [[1, 0], [1/2, np.sqrt(3)/2]]\n",
    "# define coordinates of orbitals\n",
    "orb = [[1/3, 1/3], [2/3, 2/3]]"
   ]
  },
  {
   "cell_type": "markdown",
   "id": "d1afbc3e",
   "metadata": {},
   "source": [
    "Next, we specify the real-space and reciprocal-space dimensions. In this case, we have a two-dimensional lattice, and periodic boundary conditions along each direction, so we set both `dim_r` and `dim_k` to 2.\n",
    "\n",
    "Now we can pass all of this information to the `TBModel` class to initialize our tight-binding model with the specified geometry."
   ]
  },
  {
   "cell_type": "code",
   "execution_count": 3,
   "id": "6dd0cc3e",
   "metadata": {},
   "outputs": [],
   "source": [
    "my_model = TBModel(dim_k=2, dim_r=2, lat=lat, orb=orb)"
   ]
  },
  {
   "cell_type": "markdown",
   "id": "c6df8925",
   "metadata": {},
   "source": [
    "Next, we need to specify the hopping parameters for the model. In the Haldane model, we have two types of hopping: intra-sublattice hopping (between orbitals on the same sublattice) and inter-sublattice hopping (between orbitals on different sublattices). We can define these hopping parameters as follows:\n",
    "\n",
    ":::{warning}\n",
    "Once specifying the hopping from site $i$ to site $j + \\mathbf{R}_{j}$ using the `TBModel.set_hop` method, it automatically specifies the hopping from site $j$ to site $i - \\mathbf{R}$ as well. \n",
    ":::"
   ]
  },
  {
   "cell_type": "code",
   "execution_count": 4,
   "id": "458500fd",
   "metadata": {},
   "outputs": [],
   "source": [
    "delta = 0.2\n",
    "t = -1.0\n",
    "t2 = 0.15 * np.exp((1.0j) * np.pi / 2.0)\n",
    "t2c = t2.conjugate()\n",
    "\n",
    "# set on-site energies\n",
    "my_model.set_onsite([-delta, delta])\n",
    "# set hoppings (one for each connected pair of orbitals)\n",
    "# (amplitude, i, j, [lattice vector to cell containing j])\n",
    "my_model.set_hop(t, 0, 1, [0, 0])\n",
    "my_model.set_hop(t, 1, 0, [1, 0])\n",
    "my_model.set_hop(t, 1, 0, [0, 1])\n",
    "# add second neighbour complex hoppings\n",
    "my_model.set_hop(t2, 0, 0, [1, 0])\n",
    "my_model.set_hop(t2, 1, 1, [1, -1])\n",
    "my_model.set_hop(t2, 1, 1, [0, 1])\n",
    "my_model.set_hop(t2c, 1, 1, [1, 0])\n",
    "my_model.set_hop(t2c, 0, 0, [1, -1])\n",
    "my_model.set_hop(t2c, 0, 0, [0, 1])"
   ]
  },
  {
   "cell_type": "markdown",
   "id": "c403a7b4",
   "metadata": {},
   "source": [
    "We generate a list of k-points following a segmented path in the BZ. The list of nodes (high-symmetry points) that will be connected is defined by the `path` variable. We then call the `k_path` function to construct the actual path. This takes the `path` variable and the total number of points to interpolate between the the nodes. This gives back the `k_vec`, `k_dist`, and `k_node` variables, which contain the interpolated k-points, their positions on the horizontal axis, and the positions of the original nodes, respectively."
   ]
  },
  {
   "cell_type": "code",
   "execution_count": 5,
   "id": "04bb92fe",
   "metadata": {},
   "outputs": [
    {
     "name": "stdout",
     "output_type": "stream",
     "text": [
      "----- k_path report -----\n",
      "Real-space lattice vectors:\n",
      " [[1.      0.     ]\n",
      " [0.5     0.86603]]\n",
      "K-space metric tensor:\n",
      " [[ 1.33333 -0.66667]\n",
      " [-0.66667  1.33333]]\n",
      "Nodes (reduced coords):\n",
      " [[0.      0.     ]\n",
      " [0.66667 0.33333]\n",
      " [0.5     0.5    ]\n",
      " [0.33333 0.66667]\n",
      " [0.      0.     ]]\n",
      "Reciprocal-space vectors:\n",
      " [[ 1.      -0.57735]\n",
      " [ 0.       1.1547 ]]\n",
      "Nodes (Cartesian coords):\n",
      " [[0.00000e+00 0.00000e+00]\n",
      " [6.66667e-01 1.56412e-17]\n",
      " [5.00000e-01 2.88675e-01]\n",
      " [3.33333e-01 5.77350e-01]\n",
      " [0.00000e+00 0.00000e+00]]\n",
      "Segments:\n",
      "  Node 0 [0. 0.] to Node 1 [0.66667 0.33333]: distance = 0.66667\n",
      "  Node 1 [0.66667 0.33333] to Node 2 [0.5 0.5]: distance = 0.33333\n",
      "  Node 2 [0.5 0.5] to Node 3 [0.33333 0.66667]: distance = 0.33333\n",
      "  Node 3 [0.33333 0.66667] to Node 4 [0. 0.]: distance = 0.66667\n",
      "Node distances (cumulative): [0.      0.66667 1.      1.33333 2.     ]\n",
      "Node indices in path: [  0  33  50  67 100]\n",
      "-------------------------\n"
     ]
    }
   ],
   "source": [
    "path = [\n",
    "    [0, 0],\n",
    "    [2 / 3, 1 / 3],\n",
    "    [1 / 2, 1 / 2],\n",
    "    [1 / 3, 2 / 3],\n",
    "    [0, 0],\n",
    "]\n",
    "# labels of the nodes\n",
    "label = (r\"$\\Gamma $\", r\"$K$\", r\"$M$\", r\"$K^\\prime$\", r\"$\\Gamma $\")\n",
    "\n",
    "# call function k_path to construct the actual path\n",
    "(k_vec, k_dist, k_node) = my_model.k_path(path, 101)"
   ]
  },
  {
   "cell_type": "markdown",
   "id": "491e9d8d",
   "metadata": {},
   "source": [
    "Diagonalizing the tight-binding Hamiltonian on this list of k-points is straightforward. The eigenvalues obtained from the diagonalization are then plotted as a function of the k-point positions to give us the band structure of the model"
   ]
  },
  {
   "cell_type": "code",
   "execution_count": 6,
   "id": "c6f74086",
   "metadata": {},
   "outputs": [],
   "source": [
    "evals = my_model.solve_ham(k_vec)"
   ]
  },
  {
   "cell_type": "markdown",
   "id": "9fad59db",
   "metadata": {},
   "source": [
    "As our final task, we will compute the density of states (DOS) from the obtained eigenvalues. To do so, we first need a grid of k-points spanning the full Brillouin zone. We can use the `Mesh` class from `pythtb` to create this grid."
   ]
  },
  {
   "cell_type": "code",
   "execution_count": 9,
   "id": "2458c280",
   "metadata": {},
   "outputs": [],
   "source": [
    "mesh = Mesh(dim_k=2, axis_types=['k', 'k'])\n",
    "# create a 50x50 grid of k-points \n",
    "mesh.build_grid(shape=(50, 50))\n",
    "# get the flattened list of k-points\n",
    "kpts = mesh.flat"
   ]
  },
  {
   "cell_type": "markdown",
   "id": "735d62e1",
   "metadata": {},
   "source": [
    "Lastly, we will diagonalize the Hamiltonian at each k-point to obtain the energies."
   ]
  },
  {
   "cell_type": "code",
   "execution_count": 10,
   "id": "0bcc3f14",
   "metadata": {},
   "outputs": [],
   "source": [
    "energies = my_model.solve_ham(kpts)\n",
    "energies = energies.flatten()"
   ]
  },
  {
   "cell_type": "markdown",
   "id": "c67451bf",
   "metadata": {},
   "source": [
    "Finally, we can visualize the band structure and density of states using the obtained eigenvalues."
   ]
  },
  {
   "cell_type": "code",
   "execution_count": 11,
   "id": "298069d1",
   "metadata": {},
   "outputs": [
    {
     "data": {
      "text/plain": [
       "Text(0, 0.5, 'Number of states')"
      ]
     },
     "execution_count": 11,
     "metadata": {},
     "output_type": "execute_result"
    },
    {
     "data": {
      "image/png": "[encoded data removed]",
      "text/plain": [
       "<Figure size 1000x400 with 2 Axes>"
      ]
     },
     "metadata": {},
     "output_type": "display_data"
    }
   ],
   "source": [
    "fig, ax = plt.subplots(1, 2, figsize=(10, 4))\n",
    "\n",
    "ax[0].plot(k_dist, evals)\n",
    "ax[0].set_xlim(k_node[0], k_node[-1])\n",
    "# put tickmarks and labels at node positions\n",
    "ax[0].set_xticks(k_node)\n",
    "ax[0].set_xticklabels(label)\n",
    "# add vertical lines at node positions\n",
    "for n in range(len(k_node)):\n",
    "    ax[0].axvline(x=k_node[n], linewidth=0.5, color=\"k\")\n",
    "# put title\n",
    "ax[0].set_title(\"Haldane model band structure\")\n",
    "ax[0].set_xlabel(\"Path in k-space\")\n",
    "ax[0].set_ylabel(\"Band energy\")\n",
    "\n",
    "# now plot density of states\n",
    "ax[1].hist(energies, 100, range=(-4.0, 4.0))\n",
    "# ax[1].set_ylim(0.0, 80.0)\n",
    "ax[1].set_title(\"Haldane model density of states\")\n",
    "ax[1].set_xlabel(\"Band energy\")\n",
    "ax[1].set_ylabel(\"Number of states\")"
   ]
  }
 ],
 "metadata": {
  "kernelspec": {
   "display_name": "pythtb-dev",
   "language": "python",
   "name": "python3"
  },
  "language_info": {
   "codemirror_mode": {
    "name": "ipython",
    "version": 3
   },
   "file_extension": ".py",
   "mimetype": "text/x-python",
   "name": "python",
   "nbconvert_exporter": "python",
   "pygments_lexer": "ipython3",
   "version": "3.12.11"
  }
 },
 "nbformat": 4,
 "nbformat_minor": 5
}
